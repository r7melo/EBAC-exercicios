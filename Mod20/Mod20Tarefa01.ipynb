{
 "cells": [
  {
   "cell_type": "markdown",
   "id": "fd323a22-7b36-4169-be33-6e151bd0a9ee",
   "metadata": {},
   "source": [
    "# Mod 20 - Tarefa\n",
    "### Replique o techo de texto (Markdown) da imagem abaixo no Jupyter Notebook."
   ]
  },
  {
   "cell_type": "markdown",
   "id": "f7a855b4-f5f7-435e-b11c-2ab8716cad82",
   "metadata": {},
   "source": [
    "![descrição opcional](Tarefa2.PNG)"
   ]
  },
  {
   "cell_type": "markdown",
   "id": "bb18b350-fdd9-49a9-92dc-6e73655cc178",
   "metadata": {},
   "source": [
    "# Resolução: "
   ]
  },
  {
   "attachments": {},
   "cell_type": "markdown",
   "id": "85c59aaf-847b-4ba0-81c3-9a1c2e38c32c",
   "metadata": {
    "jp-MarkdownHeadingCollapsed": true
   },
   "source": [
    "# Fórmula de Bhaskara\n",
    "A solução para uma função de segundo grau depende das suas raízes (valores de x). Como já vimos, os coeficientes <br>  precisam ser números reais e o angular diferente de zero. Sendo assim, temos a seguinte fórmula de Bhaskara:\n",
    "\n",
    "# $$ X = \\frac{-b \\pm \\sqrt{b^2 - 4.a.c}}{2.a}$$\n",
    "<p style=\"text-align: center;\"><strong>Fórmula de Bhaskara</strong></p>\n",
    "\n",
    "Para melhor compreensão o seu cálculo é dividido em duas partes: discriminante da equação e operações para <br>determinar as raízes.\n",
    "\n",
    "### Discriminante\n",
    "\n",
    "A figura dentro da raiz na fórmula de Bhaskara é nomeada de discriminante. Seu símbolo é a letra grega delta<br> e apresenta a determinada fórmula:\n",
    "\n",
    "# $$\\Delta = b^2 - 4.a.c$$\n",
    "<p style=\"text-align: center;\"><strong>Fórmula da discriminante</strong></p>\n",
    "\n",
    "- Se o delta for maior que zero, a equação terá dois valores reais e distintos.\n",
    "- Se o delta for igual a zero, a equação terá somente um valor real ou dois resultados iguais.- \n",
    "- Se o delta for menor que zero, a equação não possuirá valores reais.\n",
    "\n"
   ]
  }
 ],
 "metadata": {
  "kernelspec": {
   "display_name": "Python 3 (ipykernel)",
   "language": "python",
   "name": "python3"
  },
  "language_info": {
   "codemirror_mode": {
    "name": "ipython",
    "version": 3
   },
   "file_extension": ".py",
   "mimetype": "text/x-python",
   "name": "python",
   "nbconvert_exporter": "python",
   "pygments_lexer": "ipython3",
   "version": "3.11.7"
  }
 },
 "nbformat": 4,
 "nbformat_minor": 5
}
