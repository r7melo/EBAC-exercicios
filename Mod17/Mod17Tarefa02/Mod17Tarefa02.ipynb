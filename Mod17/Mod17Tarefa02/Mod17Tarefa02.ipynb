{
 "cells": [
  {
   "cell_type": "markdown",
   "metadata": {},
   "source": [
    "# Árvores II - Tarefa 2"
   ]
  },
  {
   "cell_type": "markdown",
   "metadata": {},
   "source": [
    "### 1. Carregar as bases\n",
    "\n",
    "Vamos carregar as bases lidas na tarefa passada. Se você salvou essas bases em arquivo texto, basta fazer a leitura com o comando ```pd.read_csv``` das seguintes bases:\n",
    "\n",
    "- X_train\n",
    "- Y_train\n",
    "- X_test\n",
    "- Y_test\n",
    "\n",
    "Não se esqueça de considerar a leitura dos índices dos arquivos no ```read_csv()```!"
   ]
  },
  {
   "cell_type": "code",
   "execution_count": 1,
   "metadata": {},
   "outputs": [],
   "source": [
    "import pandas as pd\n",
    "import seaborn as sns\n",
    "import matplotlib.pyplot as plt\n",
    "import numpy as np\n",
    "from sklearn.tree import DecisionTreeClassifier\n",
    "from sklearn.model_selection import train_test_split\n",
    "from sklearn.metrics import confusion_matrix, ConfusionMatrixDisplay"
   ]
  },
  {
   "cell_type": "code",
   "execution_count": 2,
   "metadata": {},
   "outputs": [
    {
     "data": {
      "text/html": [
       "<div>\n",
       "<style scoped>\n",
       "    .dataframe tbody tr th:only-of-type {\n",
       "        vertical-align: middle;\n",
       "    }\n",
       "\n",
       "    .dataframe tbody tr th {\n",
       "        vertical-align: top;\n",
       "    }\n",
       "\n",
       "    .dataframe thead th {\n",
       "        text-align: right;\n",
       "    }\n",
       "</style>\n",
       "<table border=\"1\" class=\"dataframe\">\n",
       "  <thead>\n",
       "    <tr style=\"text-align: right;\">\n",
       "      <th></th>\n",
       "      <th>Order</th>\n",
       "      <th>Subject</th>\n",
       "      <th>('tBodyAcc-mean()-X',)</th>\n",
       "      <th>('tBodyAcc-mean()-Y',)</th>\n",
       "      <th>('tBodyAcc-mean()-Z',)</th>\n",
       "      <th>('tBodyAcc-std()-X',)</th>\n",
       "      <th>('tBodyAcc-std()-Y',)</th>\n",
       "      <th>('tBodyAcc-std()-Z',)</th>\n",
       "      <th>('tBodyAcc-mad()-X',)</th>\n",
       "      <th>('tBodyAcc-mad()-Y',)</th>\n",
       "      <th>...</th>\n",
       "      <th>('fBodyBodyGyroJerkMag-meanFreq()',)</th>\n",
       "      <th>('fBodyBodyGyroJerkMag-skewness()',)</th>\n",
       "      <th>('fBodyBodyGyroJerkMag-kurtosis()',)</th>\n",
       "      <th>('angle(tBodyAccMean,gravity)',)</th>\n",
       "      <th>('angle(tBodyAccJerkMean),gravityMean)',)</th>\n",
       "      <th>('angle(tBodyGyroMean,gravityMean)',)</th>\n",
       "      <th>('angle(tBodyGyroJerkMean,gravityMean)',)</th>\n",
       "      <th>('angle(X,gravityMean)',)</th>\n",
       "      <th>('angle(Y,gravityMean)',)</th>\n",
       "      <th>('angle(Z,gravityMean)',)</th>\n",
       "    </tr>\n",
       "  </thead>\n",
       "  <tbody>\n",
       "    <tr>\n",
       "      <th>0</th>\n",
       "      <td>1</td>\n",
       "      <td>1</td>\n",
       "      <td>0.288585</td>\n",
       "      <td>-0.020294</td>\n",
       "      <td>-0.132905</td>\n",
       "      <td>-0.995279</td>\n",
       "      <td>-0.983111</td>\n",
       "      <td>-0.913526</td>\n",
       "      <td>-0.995112</td>\n",
       "      <td>-0.983185</td>\n",
       "      <td>...</td>\n",
       "      <td>-0.074323</td>\n",
       "      <td>-0.298676</td>\n",
       "      <td>-0.710304</td>\n",
       "      <td>-0.112754</td>\n",
       "      <td>0.030400</td>\n",
       "      <td>-0.464761</td>\n",
       "      <td>-0.018446</td>\n",
       "      <td>-0.841247</td>\n",
       "      <td>0.179941</td>\n",
       "      <td>-0.058627</td>\n",
       "    </tr>\n",
       "    <tr>\n",
       "      <th>1</th>\n",
       "      <td>2</td>\n",
       "      <td>1</td>\n",
       "      <td>0.278419</td>\n",
       "      <td>-0.016411</td>\n",
       "      <td>-0.123520</td>\n",
       "      <td>-0.998245</td>\n",
       "      <td>-0.975300</td>\n",
       "      <td>-0.960322</td>\n",
       "      <td>-0.998807</td>\n",
       "      <td>-0.974914</td>\n",
       "      <td>...</td>\n",
       "      <td>0.158075</td>\n",
       "      <td>-0.595051</td>\n",
       "      <td>-0.861499</td>\n",
       "      <td>0.053477</td>\n",
       "      <td>-0.007435</td>\n",
       "      <td>-0.732626</td>\n",
       "      <td>0.703511</td>\n",
       "      <td>-0.844788</td>\n",
       "      <td>0.180289</td>\n",
       "      <td>-0.054317</td>\n",
       "    </tr>\n",
       "    <tr>\n",
       "      <th>2</th>\n",
       "      <td>3</td>\n",
       "      <td>1</td>\n",
       "      <td>0.279653</td>\n",
       "      <td>-0.019467</td>\n",
       "      <td>-0.113462</td>\n",
       "      <td>-0.995380</td>\n",
       "      <td>-0.967187</td>\n",
       "      <td>-0.978944</td>\n",
       "      <td>-0.996520</td>\n",
       "      <td>-0.963668</td>\n",
       "      <td>...</td>\n",
       "      <td>0.414503</td>\n",
       "      <td>-0.390748</td>\n",
       "      <td>-0.760104</td>\n",
       "      <td>-0.118559</td>\n",
       "      <td>0.177899</td>\n",
       "      <td>0.100699</td>\n",
       "      <td>0.808529</td>\n",
       "      <td>-0.848933</td>\n",
       "      <td>0.180637</td>\n",
       "      <td>-0.049118</td>\n",
       "    </tr>\n",
       "  </tbody>\n",
       "</table>\n",
       "<p>3 rows × 563 columns</p>\n",
       "</div>"
      ],
      "text/plain": [
       "   Order  Subject  ('tBodyAcc-mean()-X',)  ('tBodyAcc-mean()-Y',)  \\\n",
       "0      1        1                0.288585               -0.020294   \n",
       "1      2        1                0.278419               -0.016411   \n",
       "2      3        1                0.279653               -0.019467   \n",
       "\n",
       "   ('tBodyAcc-mean()-Z',)  ('tBodyAcc-std()-X',)  ('tBodyAcc-std()-Y',)  \\\n",
       "0               -0.132905              -0.995279              -0.983111   \n",
       "1               -0.123520              -0.998245              -0.975300   \n",
       "2               -0.113462              -0.995380              -0.967187   \n",
       "\n",
       "   ('tBodyAcc-std()-Z',)  ('tBodyAcc-mad()-X',)  ('tBodyAcc-mad()-Y',)  ...  \\\n",
       "0              -0.913526              -0.995112              -0.983185  ...   \n",
       "1              -0.960322              -0.998807              -0.974914  ...   \n",
       "2              -0.978944              -0.996520              -0.963668  ...   \n",
       "\n",
       "   ('fBodyBodyGyroJerkMag-meanFreq()',)  ('fBodyBodyGyroJerkMag-skewness()',)  \\\n",
       "0                             -0.074323                             -0.298676   \n",
       "1                              0.158075                             -0.595051   \n",
       "2                              0.414503                             -0.390748   \n",
       "\n",
       "   ('fBodyBodyGyroJerkMag-kurtosis()',)  ('angle(tBodyAccMean,gravity)',)  \\\n",
       "0                             -0.710304                         -0.112754   \n",
       "1                             -0.861499                          0.053477   \n",
       "2                             -0.760104                         -0.118559   \n",
       "\n",
       "   ('angle(tBodyAccJerkMean),gravityMean)',)  \\\n",
       "0                                   0.030400   \n",
       "1                                  -0.007435   \n",
       "2                                   0.177899   \n",
       "\n",
       "   ('angle(tBodyGyroMean,gravityMean)',)  \\\n",
       "0                              -0.464761   \n",
       "1                              -0.732626   \n",
       "2                               0.100699   \n",
       "\n",
       "   ('angle(tBodyGyroJerkMean,gravityMean)',)  ('angle(X,gravityMean)',)  \\\n",
       "0                                  -0.018446                  -0.841247   \n",
       "1                                   0.703511                  -0.844788   \n",
       "2                                   0.808529                  -0.848933   \n",
       "\n",
       "   ('angle(Y,gravityMean)',)  ('angle(Z,gravityMean)',)  \n",
       "0                   0.179941                  -0.058627  \n",
       "1                   0.180289                  -0.054317  \n",
       "2                   0.180637                  -0.049118  \n",
       "\n",
       "[3 rows x 563 columns]"
      ]
     },
     "execution_count": 2,
     "metadata": {},
     "output_type": "execute_result"
    }
   ],
   "source": [
    "X_train = pd.read_csv('./input/X_train.csv')\n",
    "X_train.head(3)"
   ]
  },
  {
   "cell_type": "code",
   "execution_count": 3,
   "metadata": {},
   "outputs": [
    {
     "data": {
      "text/html": [
       "<div>\n",
       "<style scoped>\n",
       "    .dataframe tbody tr th:only-of-type {\n",
       "        vertical-align: middle;\n",
       "    }\n",
       "\n",
       "    .dataframe tbody tr th {\n",
       "        vertical-align: top;\n",
       "    }\n",
       "\n",
       "    .dataframe thead th {\n",
       "        text-align: right;\n",
       "    }\n",
       "</style>\n",
       "<table border=\"1\" class=\"dataframe\">\n",
       "  <thead>\n",
       "    <tr style=\"text-align: right;\">\n",
       "      <th></th>\n",
       "      <th>Order</th>\n",
       "      <th>Subject</th>\n",
       "      <th>('tBodyAcc-mean()-X',)</th>\n",
       "      <th>('tBodyAcc-mean()-Y',)</th>\n",
       "      <th>('tBodyAcc-mean()-Z',)</th>\n",
       "      <th>('tBodyAcc-std()-X',)</th>\n",
       "      <th>('tBodyAcc-std()-Y',)</th>\n",
       "      <th>('tBodyAcc-std()-Z',)</th>\n",
       "      <th>('tBodyAcc-mad()-X',)</th>\n",
       "      <th>('tBodyAcc-mad()-Y',)</th>\n",
       "      <th>...</th>\n",
       "      <th>('fBodyBodyGyroJerkMag-meanFreq()',)</th>\n",
       "      <th>('fBodyBodyGyroJerkMag-skewness()',)</th>\n",
       "      <th>('fBodyBodyGyroJerkMag-kurtosis()',)</th>\n",
       "      <th>('angle(tBodyAccMean,gravity)',)</th>\n",
       "      <th>('angle(tBodyAccJerkMean),gravityMean)',)</th>\n",
       "      <th>('angle(tBodyGyroMean,gravityMean)',)</th>\n",
       "      <th>('angle(tBodyGyroJerkMean,gravityMean)',)</th>\n",
       "      <th>('angle(X,gravityMean)',)</th>\n",
       "      <th>('angle(Y,gravityMean)',)</th>\n",
       "      <th>('angle(Z,gravityMean)',)</th>\n",
       "    </tr>\n",
       "  </thead>\n",
       "  <tbody>\n",
       "    <tr>\n",
       "      <th>0</th>\n",
       "      <td>1</td>\n",
       "      <td>2</td>\n",
       "      <td>0.257178</td>\n",
       "      <td>-0.023285</td>\n",
       "      <td>-0.014654</td>\n",
       "      <td>-0.938404</td>\n",
       "      <td>-0.920091</td>\n",
       "      <td>-0.667683</td>\n",
       "      <td>-0.952501</td>\n",
       "      <td>-0.925249</td>\n",
       "      <td>...</td>\n",
       "      <td>0.071645</td>\n",
       "      <td>-0.330370</td>\n",
       "      <td>-0.705974</td>\n",
       "      <td>0.006462</td>\n",
       "      <td>0.162920</td>\n",
       "      <td>-0.825886</td>\n",
       "      <td>0.271151</td>\n",
       "      <td>-0.720009</td>\n",
       "      <td>0.276801</td>\n",
       "      <td>-0.057978</td>\n",
       "    </tr>\n",
       "    <tr>\n",
       "      <th>1</th>\n",
       "      <td>2</td>\n",
       "      <td>2</td>\n",
       "      <td>0.286027</td>\n",
       "      <td>-0.013163</td>\n",
       "      <td>-0.119083</td>\n",
       "      <td>-0.975415</td>\n",
       "      <td>-0.967458</td>\n",
       "      <td>-0.944958</td>\n",
       "      <td>-0.986799</td>\n",
       "      <td>-0.968401</td>\n",
       "      <td>...</td>\n",
       "      <td>-0.401189</td>\n",
       "      <td>-0.121845</td>\n",
       "      <td>-0.594944</td>\n",
       "      <td>-0.083495</td>\n",
       "      <td>0.017500</td>\n",
       "      <td>-0.434375</td>\n",
       "      <td>0.920593</td>\n",
       "      <td>-0.698091</td>\n",
       "      <td>0.281343</td>\n",
       "      <td>-0.083898</td>\n",
       "    </tr>\n",
       "    <tr>\n",
       "      <th>2</th>\n",
       "      <td>3</td>\n",
       "      <td>2</td>\n",
       "      <td>0.275485</td>\n",
       "      <td>-0.026050</td>\n",
       "      <td>-0.118152</td>\n",
       "      <td>-0.993819</td>\n",
       "      <td>-0.969926</td>\n",
       "      <td>-0.962748</td>\n",
       "      <td>-0.994403</td>\n",
       "      <td>-0.970735</td>\n",
       "      <td>...</td>\n",
       "      <td>0.062891</td>\n",
       "      <td>-0.190422</td>\n",
       "      <td>-0.640736</td>\n",
       "      <td>-0.034956</td>\n",
       "      <td>0.202302</td>\n",
       "      <td>0.064103</td>\n",
       "      <td>0.145068</td>\n",
       "      <td>-0.702771</td>\n",
       "      <td>0.280083</td>\n",
       "      <td>-0.079346</td>\n",
       "    </tr>\n",
       "  </tbody>\n",
       "</table>\n",
       "<p>3 rows × 563 columns</p>\n",
       "</div>"
      ],
      "text/plain": [
       "   Order  Subject  ('tBodyAcc-mean()-X',)  ('tBodyAcc-mean()-Y',)  \\\n",
       "0      1        2                0.257178               -0.023285   \n",
       "1      2        2                0.286027               -0.013163   \n",
       "2      3        2                0.275485               -0.026050   \n",
       "\n",
       "   ('tBodyAcc-mean()-Z',)  ('tBodyAcc-std()-X',)  ('tBodyAcc-std()-Y',)  \\\n",
       "0               -0.014654              -0.938404              -0.920091   \n",
       "1               -0.119083              -0.975415              -0.967458   \n",
       "2               -0.118152              -0.993819              -0.969926   \n",
       "\n",
       "   ('tBodyAcc-std()-Z',)  ('tBodyAcc-mad()-X',)  ('tBodyAcc-mad()-Y',)  ...  \\\n",
       "0              -0.667683              -0.952501              -0.925249  ...   \n",
       "1              -0.944958              -0.986799              -0.968401  ...   \n",
       "2              -0.962748              -0.994403              -0.970735  ...   \n",
       "\n",
       "   ('fBodyBodyGyroJerkMag-meanFreq()',)  ('fBodyBodyGyroJerkMag-skewness()',)  \\\n",
       "0                              0.071645                             -0.330370   \n",
       "1                             -0.401189                             -0.121845   \n",
       "2                              0.062891                             -0.190422   \n",
       "\n",
       "   ('fBodyBodyGyroJerkMag-kurtosis()',)  ('angle(tBodyAccMean,gravity)',)  \\\n",
       "0                             -0.705974                          0.006462   \n",
       "1                             -0.594944                         -0.083495   \n",
       "2                             -0.640736                         -0.034956   \n",
       "\n",
       "   ('angle(tBodyAccJerkMean),gravityMean)',)  \\\n",
       "0                                   0.162920   \n",
       "1                                   0.017500   \n",
       "2                                   0.202302   \n",
       "\n",
       "   ('angle(tBodyGyroMean,gravityMean)',)  \\\n",
       "0                              -0.825886   \n",
       "1                              -0.434375   \n",
       "2                               0.064103   \n",
       "\n",
       "   ('angle(tBodyGyroJerkMean,gravityMean)',)  ('angle(X,gravityMean)',)  \\\n",
       "0                                   0.271151                  -0.720009   \n",
       "1                                   0.920593                  -0.698091   \n",
       "2                                   0.145068                  -0.702771   \n",
       "\n",
       "   ('angle(Y,gravityMean)',)  ('angle(Z,gravityMean)',)  \n",
       "0                   0.276801                  -0.057978  \n",
       "1                   0.281343                  -0.083898  \n",
       "2                   0.280083                  -0.079346  \n",
       "\n",
       "[3 rows x 563 columns]"
      ]
     },
     "execution_count": 3,
     "metadata": {},
     "output_type": "execute_result"
    }
   ],
   "source": [
    "X_test = pd.read_csv('./input/X_test.csv')\n",
    "X_test.head(3)"
   ]
  },
  {
   "cell_type": "code",
   "execution_count": 4,
   "metadata": {},
   "outputs": [
    {
     "data": {
      "text/html": [
       "<div>\n",
       "<style scoped>\n",
       "    .dataframe tbody tr th:only-of-type {\n",
       "        vertical-align: middle;\n",
       "    }\n",
       "\n",
       "    .dataframe tbody tr th {\n",
       "        vertical-align: top;\n",
       "    }\n",
       "\n",
       "    .dataframe thead th {\n",
       "        text-align: right;\n",
       "    }\n",
       "</style>\n",
       "<table border=\"1\" class=\"dataframe\">\n",
       "  <thead>\n",
       "    <tr style=\"text-align: right;\">\n",
       "      <th></th>\n",
       "      <th>0</th>\n",
       "    </tr>\n",
       "  </thead>\n",
       "  <tbody>\n",
       "    <tr>\n",
       "      <th>0</th>\n",
       "      <td>5</td>\n",
       "    </tr>\n",
       "    <tr>\n",
       "      <th>1</th>\n",
       "      <td>5</td>\n",
       "    </tr>\n",
       "    <tr>\n",
       "      <th>2</th>\n",
       "      <td>5</td>\n",
       "    </tr>\n",
       "  </tbody>\n",
       "</table>\n",
       "</div>"
      ],
      "text/plain": [
       "   0\n",
       "0  5\n",
       "1  5\n",
       "2  5"
      ]
     },
     "execution_count": 4,
     "metadata": {},
     "output_type": "execute_result"
    }
   ],
   "source": [
    "y_train = pd.read_csv('./input/y_train.txt', header=None)\n",
    "y_train.head(3)"
   ]
  },
  {
   "cell_type": "code",
   "execution_count": 5,
   "metadata": {},
   "outputs": [
    {
     "data": {
      "text/html": [
       "<div>\n",
       "<style scoped>\n",
       "    .dataframe tbody tr th:only-of-type {\n",
       "        vertical-align: middle;\n",
       "    }\n",
       "\n",
       "    .dataframe tbody tr th {\n",
       "        vertical-align: top;\n",
       "    }\n",
       "\n",
       "    .dataframe thead th {\n",
       "        text-align: right;\n",
       "    }\n",
       "</style>\n",
       "<table border=\"1\" class=\"dataframe\">\n",
       "  <thead>\n",
       "    <tr style=\"text-align: right;\">\n",
       "      <th></th>\n",
       "      <th>0</th>\n",
       "    </tr>\n",
       "  </thead>\n",
       "  <tbody>\n",
       "    <tr>\n",
       "      <th>0</th>\n",
       "      <td>5</td>\n",
       "    </tr>\n",
       "    <tr>\n",
       "      <th>1</th>\n",
       "      <td>5</td>\n",
       "    </tr>\n",
       "    <tr>\n",
       "      <th>2</th>\n",
       "      <td>5</td>\n",
       "    </tr>\n",
       "  </tbody>\n",
       "</table>\n",
       "</div>"
      ],
      "text/plain": [
       "   0\n",
       "0  5\n",
       "1  5\n",
       "2  5"
      ]
     },
     "execution_count": 5,
     "metadata": {},
     "output_type": "execute_result"
    }
   ],
   "source": [
    "y_test = pd.read_csv('./input/y_test.txt', header=None)\n",
    "y_test.head(3)"
   ]
  },
  {
   "cell_type": "markdown",
   "metadata": {},
   "source": [
    "### 2. Divisão da base em Treino, Validação e Teste\n",
    "\n",
    "A base já se encontra dividida em Treino e Validação. O que vamos fazer então é extrair uma base de Validação da base de Treino.\n",
    "\n",
    "Extraia 25% da base de treino como base de validação."
   ]
  },
  {
   "cell_type": "code",
   "execution_count": 6,
   "metadata": {},
   "outputs": [],
   "source": [
    "X_train, X_valid, y_train, y_valid = train_test_split(X_train, y_train, test_size=.25, random_state=1729)"
   ]
  },
  {
   "cell_type": "markdown",
   "metadata": {},
   "source": [
    "### 3. Melhores 3 variáveis\n",
    "\n",
    "Rode uma árvore com profundidade máxima igual a 4 para prever a atividade humana com todas as variáveis.\n",
    "Observe a importância das variáveis e considere as 3 variáveis com maior importância para os próximos passos.\n",
    "Dica: utilize o atributo ```clf.feature_importances_``` da árvore treinada."
   ]
  },
  {
   "cell_type": "code",
   "execution_count": 7,
   "metadata": {},
   "outputs": [
    {
     "name": "stdout",
     "output_type": "stream",
     "text": [
      "As 3 variáveis com maior importância: \n",
      " 42 - ('tGravityAcc-mean()-X',) : 0.2803\n",
      " 267 - ('fBodyAcc-mean()-X',) : 0.2534\n",
      " 561 - ('angle(Y,gravityMean)',) : 0.1722\n",
      "CPU times: total: 844 ms\n",
      "Wall time: 1.01 s\n"
     ]
    }
   ],
   "source": [
    "%%time\n",
    "árvore = DecisionTreeClassifier(random_state=2360873, max_depth=4).fit(X_train, y_train)\n",
    "importancias = árvore.feature_importances_\n",
    "indices_importantes = np.argsort(importancias)[::-1][:3]\n",
    "print('As 3 variáveis com maior importância: ')\n",
    "for indice in indices_importantes:\n",
    "    nome_variavel = X_train.columns[indice]\n",
    "    print(f\" {indice} - {nome_variavel} : {importancias[indice]:.4f}\")"
   ]
  },
  {
   "cell_type": "markdown",
   "metadata": {},
   "source": [
    "### 4. Construa uma árvore com as 3 melhores variáveis\n",
    "\n",
    "Utilizando as três variáveis encontradas acima, construa uma árvore de decisão. Encontre o melhor ```ccp_alpha``` utilizando a base de validação, conforme a estrutura que vimos em aula."
   ]
  },
  {
   "cell_type": "code",
   "execution_count": 8,
   "metadata": {
    "scrolled": true
   },
   "outputs": [
    {
     "name": "stdout",
     "output_type": "stream",
     "text": [
      "CPU times: total: 0 ns\n",
      "Wall time: 37.9 ms\n"
     ]
    }
   ],
   "source": [
    "%%time\n",
    "X_train_top3 = X_train.iloc[:, indices_importantes]\n",
    "X_valid_top3 = X_valid.iloc[:, indices_importantes]\n",
    "árvore = DecisionTreeClassifier(random_state=2360873).fit(X_train_top3, y_train)\n",
    "caminho = árvore.cost_complexity_pruning_path(X_train_top3, y_train)\n",
    "ccp_alphas, impurities = caminho.ccp_alphas, caminho.impurities"
   ]
  },
  {
   "cell_type": "code",
   "execution_count": 9,
   "metadata": {},
   "outputs": [
    {
     "data": {
      "text/plain": [
       "array([0.00000000e+00, 1.20904365e-04, 1.20904365e-04, 1.20904365e-04,\n",
       "       1.36017410e-04, 1.36017410e-04, 1.45085238e-04, 1.45085238e-04,\n",
       "       1.45085238e-04, 1.45085238e-04, 1.45085238e-04, 1.51130456e-04,\n",
       "       1.52721303e-04, 1.53455540e-04, 1.55448469e-04, 1.55448469e-04,\n",
       "       1.57175674e-04, 1.58105708e-04, 1.58686979e-04, 1.58686979e-04,\n",
       "       1.58686979e-04, 1.58686979e-04, 1.61205820e-04, 1.61205820e-04,\n",
       "       1.61205820e-04, 1.61205820e-04, 1.63220892e-04, 1.63220892e-04,\n",
       "       1.63220892e-04, 1.63220892e-04, 1.64869588e-04, 1.66243501e-04,\n",
       "       1.66243501e-04, 1.66243501e-04, 1.66243501e-04, 1.67754806e-04,\n",
       "       1.69266111e-04, 1.70021763e-04, 1.70021763e-04, 1.70688515e-04,\n",
       "       1.70993316e-04, 1.71281183e-04, 1.71281183e-04, 1.71811466e-04,\n",
       "       1.71811466e-04, 1.72056211e-04, 1.72720521e-04, 1.73435227e-04,\n",
       "       1.73471480e-04, 1.73471480e-04, 1.73471480e-04, 1.74102285e-04,\n",
       "       1.75311329e-04, 1.75689155e-04, 1.75689155e-04, 1.76174931e-04,\n",
       "       1.76584006e-04, 1.77433911e-04, 1.77729416e-04, 1.78059155e-04,\n",
       "       1.78174853e-04, 1.78837706e-04, 1.78970277e-04, 1.79089590e-04,\n",
       "       1.79271989e-04, 1.79331833e-04, 1.79467416e-04, 1.79629342e-04,\n",
       "       1.79677320e-04, 1.80061143e-04, 1.80701830e-04, 1.81356547e-04,\n",
       "       1.81356547e-04, 1.81356547e-04, 1.81356547e-04, 1.81356547e-04,\n",
       "       1.81356547e-04, 1.81356547e-04, 1.81356547e-04, 1.81356547e-04,\n",
       "       1.81539735e-04, 1.83083752e-04, 1.84006506e-04, 1.93446983e-04,\n",
       "       1.93446983e-04, 1.95307051e-04, 2.00835583e-04, 2.13093943e-04,\n",
       "       2.15900651e-04, 2.17627856e-04, 2.17627856e-04, 2.17627856e-04,\n",
       "       2.19668118e-04, 2.22665538e-04, 2.26695684e-04, 2.33015685e-04,\n",
       "       2.34554467e-04, 2.35763511e-04, 2.40922983e-04, 2.41808729e-04,\n",
       "       2.41808729e-04, 2.41808729e-04, 2.41808729e-04, 2.41808729e-04,\n",
       "       2.41808729e-04, 2.41808729e-04, 2.41808729e-04, 2.41808729e-04,\n",
       "       2.41808729e-04, 2.41808729e-04, 2.41808729e-04, 2.41808729e-04,\n",
       "       2.41808729e-04, 2.41808729e-04, 2.45877626e-04, 2.46086884e-04,\n",
       "       2.46126742e-04, 2.53425031e-04, 2.53485546e-04, 2.53899166e-04,\n",
       "       2.54370222e-04, 2.55242548e-04, 2.56268815e-04, 2.61095854e-04,\n",
       "       2.64262397e-04, 2.67939673e-04, 2.72034820e-04, 2.72034820e-04,\n",
       "       2.72034820e-04, 2.72034820e-04, 2.72034820e-04, 2.72034820e-04,\n",
       "       2.72034820e-04, 2.72034820e-04, 2.72034820e-04, 2.72034820e-04,\n",
       "       2.75245169e-04, 2.75921032e-04, 2.78592260e-04, 2.87662353e-04,\n",
       "       2.90170475e-04, 2.90170475e-04, 2.90170475e-04, 2.96215693e-04,\n",
       "       2.96215693e-04, 2.96215693e-04, 2.96765259e-04, 2.96765259e-04,\n",
       "       3.02260912e-04, 3.02260912e-04, 3.06291057e-04, 3.06503170e-04,\n",
       "       3.10657048e-04, 3.10896938e-04, 3.10896938e-04, 3.10896938e-04,\n",
       "       3.11706859e-04, 3.17373957e-04, 3.17946260e-04, 3.18031046e-04,\n",
       "       3.21525893e-04, 3.22123772e-04, 3.22411639e-04, 3.22411639e-04,\n",
       "       3.22411639e-04, 3.22411639e-04, 3.24581717e-04, 3.26441785e-04,\n",
       "       3.26441785e-04, 3.29739176e-04, 3.29739176e-04, 3.29739176e-04,\n",
       "       3.31623400e-04, 3.35601206e-04, 3.35768693e-04, 3.36464120e-04,\n",
       "       3.38532221e-04, 3.41377030e-04, 3.41732631e-04, 3.44696753e-04,\n",
       "       3.45179344e-04, 3.46226135e-04, 3.47821647e-04, 3.49759055e-04,\n",
       "       3.49768055e-04, 3.50002635e-04, 3.51182243e-04, 3.51721788e-04,\n",
       "       3.54129659e-04, 3.63548632e-04, 3.71780921e-04, 3.77249982e-04,\n",
       "       3.77542060e-04, 3.86893967e-04, 3.87373746e-04, 3.98273201e-04,\n",
       "       4.00495708e-04, 4.02007012e-04, 4.03714973e-04, 4.10905743e-04,\n",
       "       4.13731054e-04, 4.17624740e-04, 4.20258921e-04, 4.20536921e-04,\n",
       "       4.25891237e-04, 4.27248852e-04, 4.29882185e-04, 4.31574955e-04,\n",
       "       4.34991542e-04, 4.35227248e-04, 4.35255713e-04, 4.41717778e-04,\n",
       "       4.58429049e-04, 4.68962384e-04, 4.83617459e-04, 4.84804180e-04,\n",
       "       4.87603317e-04, 4.96063496e-04, 5.04775722e-04, 5.05207524e-04,\n",
       "       5.06973984e-04, 5.07148696e-04, 5.07895102e-04, 5.10018436e-04,\n",
       "       5.20157444e-04, 5.21288713e-04, 5.26660017e-04, 5.59614488e-04,\n",
       "       5.68961716e-04, 5.74561456e-04, 5.77996886e-04, 5.98722790e-04,\n",
       "       6.03118318e-04, 6.21793875e-04, 6.26409682e-04, 6.34747914e-04,\n",
       "       6.49884236e-04, 6.54602308e-04, 6.57280091e-04, 6.84297114e-04,\n",
       "       6.94586966e-04, 7.07290533e-04, 7.15566390e-04, 7.23433259e-04,\n",
       "       7.29793575e-04, 7.32304417e-04, 7.35114038e-04, 7.35354871e-04,\n",
       "       7.69291181e-04, 7.70869553e-04, 8.61983350e-04, 9.29759687e-04,\n",
       "       9.66554631e-04, 9.97018321e-04, 1.13350114e-03, 1.16494911e-03,\n",
       "       1.19489210e-03, 1.19582640e-03, 1.26753975e-03, 1.27625044e-03,\n",
       "       1.28372395e-03, 1.33104178e-03, 1.58962956e-03, 1.73456961e-03,\n",
       "       1.86444826e-03, 1.89159980e-03, 2.00895194e-03, 2.08003009e-03,\n",
       "       2.16688308e-03, 2.29889371e-03, 2.44967032e-03, 2.51506660e-03,\n",
       "       2.79601894e-03, 2.88728710e-03, 3.35677223e-03, 3.39189863e-03,\n",
       "       4.22782753e-03, 4.36626787e-03, 4.36673648e-03, 5.60708071e-03,\n",
       "       5.93335253e-03, 6.92424454e-03, 1.17737099e-02, 3.46701525e-02,\n",
       "       7.13465808e-02, 1.13830403e-01, 1.67556914e-01, 1.85313500e-01])"
      ]
     },
     "execution_count": 9,
     "metadata": {},
     "output_type": "execute_result"
    }
   ],
   "source": [
    "ccp_alphas"
   ]
  },
  {
   "cell_type": "code",
   "execution_count": 10,
   "metadata": {},
   "outputs": [],
   "source": [
    "clfs = []\n",
    "for ccp_alpha in ccp_alphas:\n",
    "    clf = DecisionTreeClassifier(random_state=2360873, ccp_alpha=ccp_alpha).fit(X_train_top3, y_train)\n",
    "    clfs.append(clf)"
   ]
  },
  {
   "cell_type": "code",
   "execution_count": 11,
   "metadata": {},
   "outputs": [],
   "source": [
    "train_scores = [clf.score(X_train_top3, y_train) for clf in clfs]\n",
    "valid_scores = [clf.score(X_valid_top3, y_valid) for clf in clfs]"
   ]
  },
  {
   "cell_type": "code",
   "execution_count": 12,
   "metadata": {},
   "outputs": [
    {
     "data": {
      "image/png": "[encoded data removed]",
      "text/plain": [
       "<Figure size 640x480 with 1 Axes>"
      ]
     },
     "metadata": {},
     "output_type": "display_data"
    }
   ],
   "source": [
    "fig, ax = plt.subplots()\n",
    "ax.set_xlabel(\"alpha\")\n",
    "ax.set_ylabel(\"Acurácia\")\n",
    "ax.set_title(\"Acurácia x alpha do conjunto de dados de treino e validação\")\n",
    "ax.plot(ccp_alphas, train_scores, marker='o', label=\"validação\",\n",
    "        drawstyle=\"steps-post\")\n",
    "ax.plot(ccp_alphas, valid_scores, marker='o', label=\"teste\",\n",
    "        drawstyle=\"steps-post\")\n",
    "ax.legend()\n",
    "plt.show()"
   ]
  },
  {
   "cell_type": "code",
   "execution_count": 13,
   "metadata": {},
   "outputs": [
    {
     "name": "stdout",
     "output_type": "stream",
     "text": [
      "Acurácia da melhor árvore na base de validação: 87.65\n"
     ]
    },
    {
     "data": {
      "text/html": [
       "<style>#sk-container-id-1 {color: black;background-color: white;}#sk-container-id-1 pre{padding: 0;}#sk-container-id-1 div.sk-toggleable {background-color: white;}#sk-container-id-1 label.sk-toggleable__label {cursor: pointer;display: block;width: 100%;margin-bottom: 0;padding: 0.3em;box-sizing: border-box;text-align: center;}#sk-container-id-1 label.sk-toggleable__label-arrow:before {content: \"▸\";float: left;margin-right: 0.25em;color: #696969;}#sk-container-id-1 label.sk-toggleable__label-arrow:hover:before {color: black;}#sk-container-id-1 div.sk-estimator:hover label.sk-toggleable__label-arrow:before {color: black;}#sk-container-id-1 div.sk-toggleable__content {max-height: 0;max-width: 0;overflow: hidden;text-align: left;background-color: #f0f8ff;}#sk-container-id-1 div.sk-toggleable__content pre {margin: 0.2em;color: black;border-radius: 0.25em;background-color: #f0f8ff;}#sk-container-id-1 input.sk-toggleable__control:checked~div.sk-toggleable__content {max-height: 200px;max-width: 100%;overflow: auto;}#sk-container-id-1 input.sk-toggleable__control:checked~label.sk-toggleable__label-arrow:before {content: \"▾\";}#sk-container-id-1 div.sk-estimator input.sk-toggleable__control:checked~label.sk-toggleable__label {background-color: #d4ebff;}#sk-container-id-1 div.sk-label input.sk-toggleable__control:checked~label.sk-toggleable__label {background-color: #d4ebff;}#sk-container-id-1 input.sk-hidden--visually {border: 0;clip: rect(1px 1px 1px 1px);clip: rect(1px, 1px, 1px, 1px);height: 1px;margin: -1px;overflow: hidden;padding: 0;position: absolute;width: 1px;}#sk-container-id-1 div.sk-estimator {font-family: monospace;background-color: #f0f8ff;border: 1px dotted black;border-radius: 0.25em;box-sizing: border-box;margin-bottom: 0.5em;}#sk-container-id-1 div.sk-estimator:hover {background-color: #d4ebff;}#sk-container-id-1 div.sk-parallel-item::after {content: \"\";width: 100%;border-bottom: 1px solid gray;flex-grow: 1;}#sk-container-id-1 div.sk-label:hover label.sk-toggleable__label {background-color: #d4ebff;}#sk-container-id-1 div.sk-serial::before {content: \"\";position: absolute;border-left: 1px solid gray;box-sizing: border-box;top: 0;bottom: 0;left: 50%;z-index: 0;}#sk-container-id-1 div.sk-serial {display: flex;flex-direction: column;align-items: center;background-color: white;padding-right: 0.2em;padding-left: 0.2em;position: relative;}#sk-container-id-1 div.sk-item {position: relative;z-index: 1;}#sk-container-id-1 div.sk-parallel {display: flex;align-items: stretch;justify-content: center;background-color: white;position: relative;}#sk-container-id-1 div.sk-item::before, #sk-container-id-1 div.sk-parallel-item::before {content: \"\";position: absolute;border-left: 1px solid gray;box-sizing: border-box;top: 0;bottom: 0;left: 50%;z-index: -1;}#sk-container-id-1 div.sk-parallel-item {display: flex;flex-direction: column;z-index: 1;position: relative;background-color: white;}#sk-container-id-1 div.sk-parallel-item:first-child::after {align-self: flex-end;width: 50%;}#sk-container-id-1 div.sk-parallel-item:last-child::after {align-self: flex-start;width: 50%;}#sk-container-id-1 div.sk-parallel-item:only-child::after {width: 0;}#sk-container-id-1 div.sk-dashed-wrapped {border: 1px dashed gray;margin: 0 0.4em 0.5em 0.4em;box-sizing: border-box;padding-bottom: 0.4em;background-color: white;}#sk-container-id-1 div.sk-label label {font-family: monospace;font-weight: bold;display: inline-block;line-height: 1.2em;}#sk-container-id-1 div.sk-label-container {text-align: center;}#sk-container-id-1 div.sk-container {/* jupyter's `normalize.less` sets `[hidden] { display: none; }` but bootstrap.min.css set `[hidden] { display: none !important; }` so we also need the `!important` here to be able to override the default hidden behavior on the sphinx rendered scikit-learn.org. See: https://github.com/scikit-learn/scikit-learn/issues/21755 */display: inline-block !important;position: relative;}#sk-container-id-1 div.sk-text-repr-fallback {display: none;}</style><div id=\"sk-container-id-1\" class=\"sk-top-container\"><div class=\"sk-text-repr-fallback\"><pre>DecisionTreeClassifier(ccp_alpha=0.00027592103217783303, random_state=2360873)</pre><b>In a Jupyter environment, please rerun this cell to show the HTML representation or trust the notebook. <br />On GitHub, the HTML representation is unable to render, please try loading this page with nbviewer.org.</b></div><div class=\"sk-container\" hidden><div class=\"sk-item\"><div class=\"sk-estimator sk-toggleable\"><input class=\"sk-toggleable__control sk-hidden--visually\" id=\"sk-estimator-id-1\" type=\"checkbox\" checked><label for=\"sk-estimator-id-1\" class=\"sk-toggleable__label sk-toggleable__label-arrow\">DecisionTreeClassifier</label><div class=\"sk-toggleable__content\"><pre>DecisionTreeClassifier(ccp_alpha=0.00027592103217783303, random_state=2360873)</pre></div></div></div></div></div>"
      ],
      "text/plain": [
       "DecisionTreeClassifier(ccp_alpha=0.00027592103217783303, random_state=2360873)"
      ]
     },
     "execution_count": 13,
     "metadata": {},
     "output_type": "execute_result"
    }
   ],
   "source": [
    "ind_melhor_arvore = len(valid_scores) - valid_scores[::-1].index(max(valid_scores)) - 1\n",
    "melhor_arvore = clfs[ind_melhor_arvore]\n",
    "\n",
    "print(f'Acurácia da melhor árvore na base de validação: {valid_scores[ind_melhor_arvore]*100:.2f}')\n",
    "\n",
    "melhor_arvore"
   ]
  },
  {
   "cell_type": "markdown",
   "metadata": {},
   "source": [
    "### 5. Avaliação do modelo\n",
    "\n",
    "Avalie a árvore encontrada no item anterior na base de testes."
   ]
  },
  {
   "cell_type": "code",
   "execution_count": 14,
   "metadata": {},
   "outputs": [
    {
     "name": "stdout",
     "output_type": "stream",
     "text": [
      "Acurácia da melhor árvore na base de testes: 70.34\n"
     ]
    },
    {
     "data": {
      "text/plain": [
       "<sklearn.metrics._plot.confusion_matrix.ConfusionMatrixDisplay at 0x22a47484b90>"
      ]
     },
     "execution_count": 14,
     "metadata": {},
     "output_type": "execute_result"
    },
    {
     "data": {
      "image/png": "[encoded data removed]",
      "text/plain": [
       "<Figure size 640x480 with 2 Axes>"
      ]
     },
     "metadata": {},
     "output_type": "display_data"
    }
   ],
   "source": [
    "X_test_top3 = X_test.iloc[:, indices_importantes]\n",
    "acuracia_teste = melhor_arvore.score(X_test_top3, y_test)\n",
    "\n",
    "print(f'Acurácia da melhor árvore na base de testes: {acuracia_teste*100:.2f}')\n",
    "\n",
    "ConfusionMatrixDisplay.from_estimator(melhor_arvore, X_test_top3, y_test)"
   ]
  }
 ],
 "metadata": {
  "kernelspec": {
   "display_name": "Python 3 (ipykernel)",
   "language": "python",
   "name": "python3"
  },
  "language_info": {
   "codemirror_mode": {
    "name": "ipython",
    "version": 3
   },
   "file_extension": ".py",
   "mimetype": "text/x-python",
   "name": "python",
   "nbconvert_exporter": "python",
   "pygments_lexer": "ipython3",
   "version": "3.11.7"
  }
 },
 "nbformat": 4,
 "nbformat_minor": 4
}
