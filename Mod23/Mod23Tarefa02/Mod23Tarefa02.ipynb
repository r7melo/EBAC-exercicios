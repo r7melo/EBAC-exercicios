{
 "cells": [
  {
   "cell_type": "markdown",
   "id": "e350f8fc",
   "metadata": {},
   "source": [
    "# Mod 23 Tarefa02\n"
   ]
  },
  {
   "cell_type": "markdown",
   "id": "a0113bba-23d2-43af-81d5-c90c9f7e5fb3",
   "metadata": {},
   "source": [
    "### 1. Monte um passo a passo para o algoritmo RF\n",
    "fiz um diagrama para exemplificar o passo a passo.\n",
    "\n",
    "![diagrama](diagrama.jpg)"
   ]
  },
  {
   "cell_type": "markdown",
   "id": "9be42b72-d173-41ee-8c7f-2fb9beacb0f0",
   "metadata": {},
   "source": [
    "### 2. Explique com suas palavras o Bagging.\n",
    "Como processo de Bagging, o Random Forest divide o conjunto de dados em múltiplos subconjuntos através de amostragem com reposição nas linhas. Nas colunas, utilizamos um cálculo para classificação (m = √p) e um para regressão (m = p/3). Para finalizar, assim como o aggregating do Bagging, escolhemos a previsão do modelo fazendo uma tabela de referência."
   ]
  },
  {
   "cell_type": "markdown",
   "id": "b60c0bd2",
   "metadata": {},
   "source": [
    "### 3. Qual a diferença entre Bagging e Random Forest?\n",
    "\n",
    "A principal diferença está na parte de amostragem, onde no Random Forest utilizamos bootstrap juntamente com feature selection. Isso resulta em árvores mais independentes e com menor correlação. Além disso, essa abordagem reduz a variância, diminuindo o overfitting."
   ]
  },
  {
   "cell_type": "code",
   "execution_count": null,
   "id": "60c6feaa",
   "metadata": {},
   "outputs": [],
   "source": []
  }
 ],
 "metadata": {
  "kernelspec": {
   "display_name": "Python 3 (ipykernel)",
   "language": "python",
   "name": "python3"
  },
  "language_info": {
   "codemirror_mode": {
    "name": "ipython",
    "version": 3
   },
   "file_extension": ".py",
   "mimetype": "text/x-python",
   "name": "python",
   "nbconvert_exporter": "python",
   "pygments_lexer": "ipython3",
   "version": "3.11.7"
  }
 },
 "nbformat": 4,
 "nbformat_minor": 5
}
