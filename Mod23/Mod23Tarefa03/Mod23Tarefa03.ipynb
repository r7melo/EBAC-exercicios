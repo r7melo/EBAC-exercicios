{
 "cells": [
  {
   "cell_type": "markdown",
   "id": "e350f8fc",
   "metadata": {},
   "source": [
    "# Mod 23 Tarefa 03\n"
   ]
  },
  {
   "cell_type": "markdown",
   "id": "a0113bba-23d2-43af-81d5-c90c9f7e5fb3",
   "metadata": {},
   "source": [
    "### Quais são os hyperparâmetros do RF?\n",
    "R:\n",
    "- oob_score\n",
    "- max_depth\n",
    "- min_samples_leaf\n",
    "- n_estimators\n",
    "- criterion\n",
    "- min_samples_split\n",
    "- min_weight_fraction_leaf\n",
    "- max_features\n",
    "- max_leaf_nodes\n",
    "- min_impurity_decrease\n",
    "- random_state\n",
    "- bootstrap\n",
    "- n_jobs\n",
    "- verbose\n",
    "- warm_start\n",
    "- class_weight\n",
    "- ccp_alpha\n",
    "- max_samples\n",
    "- monotonic_cst"
   ]
  },
  {
   "cell_type": "markdown",
   "id": "9be42b72-d173-41ee-8c7f-2fb9beacb0f0",
   "metadata": {},
   "source": [
    "### 2. Pra que serve cada um deles?\n",
    "\n",
    "R:\n",
    "- oob_score: Out-of-bag, usa amostras fora da \"bolsa\";\n",
    "- max_depth: Porfunidade máxima da árvore;\n",
    "- min_samples_leaf: N° de elemntos minino nas folhas;\n",
    "- n_estimators: N° de árvores;\n",
    "- criterion: Qual critério para medir qualidade da folha. ex: Gini, entropia;\n",
    "- min_samples_split: Número mínimo de amostras necessárias para dividir um nó;\n",
    "- min_weight_fraction_leaf: Fração mínima do peso total (amostras) necessária para estar em um nó folha;\n",
    "- max_features: Fração mínima do peso total (amostras) necessária para estar em um nó folha;\n",
    "- max_leaf_nodes: Número máximo de nós folhas na árvore\n",
    "- min_impurity_decrease: Mínima redução de impureza necessária para dividir um nó;\n",
    "- random_state: Controla tanto a aleatoriedade do bootstrapping das amostras usadas ao construir árvores;\n",
    "- bootstrap: Criação de subconjuntos do conjunto pricipal para construir as árvores;\n",
    "- n_jobs: Número de trabalhos a serem executados em paralelo;\n",
    "- verbose: Controla o nível de verbosidade;\n",
    "- warm_start: Reutiliza a solução das chamadas anteriores para adicionar mais estimadores;\n",
    "- class_weight: Peso associado às classes;\n",
    "- ccp_alpha: Parâmetro de complexidade usado para remoção de custo mínimo-complexidade;\n",
    "- max_samples: O número de amostras a serem extraídas de X para treinar cada estimador base;\n",
    "- monotonic_cst: Indica a restrição de monotonicidade a ser imposta a cada recurso;"
   ]
  },
  {
   "cell_type": "code",
   "execution_count": null,
   "id": "25185899",
   "metadata": {},
   "outputs": [],
   "source": []
  }
 ],
 "metadata": {
  "kernelspec": {
   "display_name": "Python 3 (ipykernel)",
   "language": "python",
   "name": "python3"
  },
  "language_info": {
   "codemirror_mode": {
    "name": "ipython",
    "version": 3
   },
   "file_extension": ".py",
   "mimetype": "text/x-python",
   "name": "python",
   "nbconvert_exporter": "python",
   "pygments_lexer": "ipython3",
   "version": "3.11.7"
  }
 },
 "nbformat": 4,
 "nbformat_minor": 5
}
