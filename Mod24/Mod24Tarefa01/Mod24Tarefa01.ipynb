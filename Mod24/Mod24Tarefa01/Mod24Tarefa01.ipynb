{
 "cells": [
  {
   "cell_type": "markdown",
   "id": "e350f8fc",
   "metadata": {},
   "source": [
    "# Mod 24 Tarefa 01\n"
   ]
  },
  {
   "cell_type": "markdown",
   "id": "a0113bba-23d2-43af-81d5-c90c9f7e5fb3",
   "metadata": {},
   "source": [
    "### 1. Cite 5 diferenças entre o Random Forest e o AdaBoost.\n",
    "R:\n",
    "- No AdaBoost tempos florestas de stumps ao inves de arvorés;\n",
    "- No AdaBoost cada stump é interligado com o outro;\n",
    "- O resultado de cada stump tem um peso que impacta na previsão final;\n",
    "- O AdaBoost pode ser mais lento, pois cada modelo é treinado sequencialmente;\n",
    "- Adaboost precisa de uma ajuste mais cauteloso com os hiperparametros;"
   ]
  },
  {
   "cell_type": "markdown",
   "id": "9be42b72-d173-41ee-8c7f-2fb9beacb0f0",
   "metadata": {},
   "source": [
    "### 2. Acesse o link Scikit-learn– adaboost , leia a explicação (traduza se for preciso) e crie um jupyter notebook contendo o exemplo do AdaBoost.\n",
    "R:\n"
   ]
  },
  {
   "cell_type": "code",
   "execution_count": 3,
   "id": "f8084ac0-0fa4-4038-97c7-fba4782d2740",
   "metadata": {},
   "outputs": [
    {
     "data": {
      "text/plain": [
       "0.9533333333333334"
      ]
     },
     "execution_count": 3,
     "metadata": {},
     "output_type": "execute_result"
    }
   ],
   "source": [
    "from sklearn.model_selection import cross_val_score\n",
    "from sklearn.datasets import load_iris\n",
    "from sklearn.ensemble import AdaBoostClassifier\n",
    "\n",
    "X, y = load_iris(return_X_y=True)\n",
    "clf = AdaBoostClassifier(n_estimators=100, algorithm=\"SAMME\",)\n",
    "scores = cross_val_score(clf, X, y, cv=5)\n",
    "scores.mean()"
   ]
  },
  {
   "attachments": {},
   "cell_type": "markdown",
   "id": "1e5fa8a2-c38a-4ba1-a8af-7f9bf83513f9",
   "metadata": {},
   "source": [
    "### 3. Cite 5 Hyperparametros importantes no AdaBoost.\n",
    "R:\n",
    "\n",
    "\n",
    "- n_estimators = O número máximo de classificadores fracos a serem combinados;\n",
    "- random_state = Controla a aleatoriedade do amostrador de pesos;\n",
    "- learning_rate = Um fator de redução da contribuição de cada classificador fraco;\n",
    "- max_features = O número máximo de características a serem consideradas ao procurar a melhor divisão;\n",
    "- min_samples_leaf = O número mínimo de amostras necessárias para estar em um nó folha;"
   ]
  },
  {
   "cell_type": "code",
   "execution_count": null,
   "id": "98065702-ef65-4731-8ebe-20954061231e",
   "metadata": {},
   "outputs": [],
   "source": []
  }
 ],
 "metadata": {
  "kernelspec": {
   "display_name": "Python 3 (ipykernel)",
   "language": "python",
   "name": "python3"
  },
  "language_info": {
   "codemirror_mode": {
    "name": "ipython",
    "version": 3
   },
   "file_extension": ".py",
   "mimetype": "text/x-python",
   "name": "python",
   "nbconvert_exporter": "python",
   "pygments_lexer": "ipython3",
   "version": "3.11.7"
  }
 },
 "nbformat": 4,
 "nbformat_minor": 5
}
