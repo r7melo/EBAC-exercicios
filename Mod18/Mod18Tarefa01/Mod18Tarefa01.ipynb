{
 "cells": [
  {
   "cell_type": "markdown",
   "metadata": {},
   "source": [
    "# Regressão Logística I\n",
    "## Tarefa I\n",
    "\n",
    "Neste exercício vamos trabalhar com a base \"Heart Disease Data Set\" disponível no site do [UCI](https://archive.ics.uci.edu/ml/datasets/heart+disease).\n",
    "\n",
    "Temos 303 indivíduos e vamos utilizar 13 variáveis disponíveis para prever a presença de doença cardíaca na variável ```num```(a 14$^a$ variável).\n",
    "\n",
    "A descrição das variáveis está recortada abaixo:\n",
    "- age: idade do paciente em anos\n",
    "- sex: sexo (1 = male; 0 = female)  \n",
    "- cp: tipo de dor no peito\n",
    "  - 1: angina típica\n",
    "  - 2: angina atípica\n",
    "  - 3: dor não-angina\n",
    "  - 4: assintomático\n",
    "- trestbps: pressão sanguínea em repouso (em mm Hg na admissão ao hospital\n",
    "- chol: colesterol sérico em mg/dl\n",
    "- fbs: (açúcar no sangue em jejum > 120 mg/dl) (1 = True; 0 = False)\n",
    "- restecg: resultados eletrocardiográficos em repouso\n",
    "  - 0: normal\n",
    "  - 1: tendo anormalidade da onda ST-T (Inversões de onda T e / ou ST com elevação ou depressão de > 0.05 mV)\n",
    "  - 2: mostrando hipertrofia ventricular esquerda provável ou definitiva pelos critérios de Estes\n",
    "- thalach: frequência cardíaca máxima alcançada\n",
    "- exang: angina induzida por exercício(1 = sim; 0 = não)\n",
    "- oldpeak = Depressão de ST induzida por exercício em relação ao repouso\n",
    "- slope: Inclinação de ST induzida por exercício em relação ao repouso\n",
    "  - 1: inclinação ascendente\n",
    "  - 2: estável\n",
    "  - 3: inclinação descendente\n",
    "- ca: número de vasos principais (0-3) coloridos por fluorosopia\n",
    "- thal: 3 = normal; 6 = defeito corrigido; 7 = defeito reversível\n",
    "- num: diagnóstico de doença cardíaga (status de doença angiográfica)"
   ]
  },
  {
   "cell_type": "code",
   "execution_count": 111,
   "metadata": {},
   "outputs": [],
   "source": [
    "import pandas as pd\n",
    "import seaborn as sns\n",
    "import matplotlib.pyplot as plt\n",
    "import numpy as np\n",
    "\n",
    "import statsmodels.formula.api as smf\n",
    "import warnings\n",
    "\n",
    "warnings.filterwarnings(\"ignore\")"
   ]
  },
  {
   "cell_type": "code",
   "execution_count": 112,
   "metadata": {
    "tags": []
   },
   "outputs": [
    {
     "data": {
      "text/html": [
       "<div>\n",
       "<style scoped>\n",
       "    .dataframe tbody tr th:only-of-type {\n",
       "        vertical-align: middle;\n",
       "    }\n",
       "\n",
       "    .dataframe tbody tr th {\n",
       "        vertical-align: top;\n",
       "    }\n",
       "\n",
       "    .dataframe thead th {\n",
       "        text-align: right;\n",
       "    }\n",
       "</style>\n",
       "<table border=\"1\" class=\"dataframe\">\n",
       "  <thead>\n",
       "    <tr style=\"text-align: right;\">\n",
       "      <th></th>\n",
       "      <th>age</th>\n",
       "      <th>sex</th>\n",
       "      <th>cp</th>\n",
       "      <th>trestbps</th>\n",
       "      <th>chol</th>\n",
       "      <th>fbs</th>\n",
       "      <th>restecg</th>\n",
       "      <th>thalach</th>\n",
       "      <th>exang</th>\n",
       "      <th>oldpeak</th>\n",
       "      <th>slope</th>\n",
       "      <th>ca</th>\n",
       "      <th>thal</th>\n",
       "      <th>num</th>\n",
       "    </tr>\n",
       "  </thead>\n",
       "  <tbody>\n",
       "    <tr>\n",
       "      <th>0</th>\n",
       "      <td>63.0</td>\n",
       "      <td>1.0</td>\n",
       "      <td>1.0</td>\n",
       "      <td>145.0</td>\n",
       "      <td>233.0</td>\n",
       "      <td>1.0</td>\n",
       "      <td>2.0</td>\n",
       "      <td>150.0</td>\n",
       "      <td>0.0</td>\n",
       "      <td>2.3</td>\n",
       "      <td>3.0</td>\n",
       "      <td>0.0</td>\n",
       "      <td>6.0</td>\n",
       "      <td>0</td>\n",
       "    </tr>\n",
       "    <tr>\n",
       "      <th>1</th>\n",
       "      <td>67.0</td>\n",
       "      <td>1.0</td>\n",
       "      <td>4.0</td>\n",
       "      <td>160.0</td>\n",
       "      <td>286.0</td>\n",
       "      <td>0.0</td>\n",
       "      <td>2.0</td>\n",
       "      <td>108.0</td>\n",
       "      <td>1.0</td>\n",
       "      <td>1.5</td>\n",
       "      <td>2.0</td>\n",
       "      <td>3.0</td>\n",
       "      <td>3.0</td>\n",
       "      <td>2</td>\n",
       "    </tr>\n",
       "    <tr>\n",
       "      <th>2</th>\n",
       "      <td>67.0</td>\n",
       "      <td>1.0</td>\n",
       "      <td>4.0</td>\n",
       "      <td>120.0</td>\n",
       "      <td>229.0</td>\n",
       "      <td>0.0</td>\n",
       "      <td>2.0</td>\n",
       "      <td>129.0</td>\n",
       "      <td>1.0</td>\n",
       "      <td>2.6</td>\n",
       "      <td>2.0</td>\n",
       "      <td>2.0</td>\n",
       "      <td>7.0</td>\n",
       "      <td>1</td>\n",
       "    </tr>\n",
       "    <tr>\n",
       "      <th>3</th>\n",
       "      <td>37.0</td>\n",
       "      <td>1.0</td>\n",
       "      <td>3.0</td>\n",
       "      <td>130.0</td>\n",
       "      <td>250.0</td>\n",
       "      <td>0.0</td>\n",
       "      <td>0.0</td>\n",
       "      <td>187.0</td>\n",
       "      <td>0.0</td>\n",
       "      <td>3.5</td>\n",
       "      <td>3.0</td>\n",
       "      <td>0.0</td>\n",
       "      <td>3.0</td>\n",
       "      <td>0</td>\n",
       "    </tr>\n",
       "    <tr>\n",
       "      <th>4</th>\n",
       "      <td>41.0</td>\n",
       "      <td>0.0</td>\n",
       "      <td>2.0</td>\n",
       "      <td>130.0</td>\n",
       "      <td>204.0</td>\n",
       "      <td>0.0</td>\n",
       "      <td>2.0</td>\n",
       "      <td>172.0</td>\n",
       "      <td>0.0</td>\n",
       "      <td>1.4</td>\n",
       "      <td>1.0</td>\n",
       "      <td>0.0</td>\n",
       "      <td>3.0</td>\n",
       "      <td>0</td>\n",
       "    </tr>\n",
       "  </tbody>\n",
       "</table>\n",
       "</div>"
      ],
      "text/plain": [
       "    age  sex   cp  trestbps   chol  fbs  restecg  thalach  exang  oldpeak  \\\n",
       "0  63.0  1.0  1.0     145.0  233.0  1.0      2.0    150.0    0.0      2.3   \n",
       "1  67.0  1.0  4.0     160.0  286.0  0.0      2.0    108.0    1.0      1.5   \n",
       "2  67.0  1.0  4.0     120.0  229.0  0.0      2.0    129.0    1.0      2.6   \n",
       "3  37.0  1.0  3.0     130.0  250.0  0.0      0.0    187.0    0.0      3.5   \n",
       "4  41.0  0.0  2.0     130.0  204.0  0.0      2.0    172.0    0.0      1.4   \n",
       "\n",
       "   slope   ca thal  num  \n",
       "0    3.0  0.0  6.0    0  \n",
       "1    2.0  3.0  3.0    2  \n",
       "2    2.0  2.0  7.0    1  \n",
       "3    3.0  0.0  3.0    0  \n",
       "4    1.0  0.0  3.0    0  "
      ]
     },
     "execution_count": 112,
     "metadata": {},
     "output_type": "execute_result"
    }
   ],
   "source": [
    "url = 'https://archive.ics.uci.edu/ml/machine-learning-databases/heart-disease/processed.cleveland.data'\n",
    "\n",
    "df = pd.read_csv(url, \n",
    "                 names=['age', 'sex', 'cp', 'trestbps', 'chol', 'fbs', 'restecg',\n",
    "                        'thalach', 'exang', 'oldpeak', 'slope', 'ca', 'thal', 'num'])\n",
    "df.head()"
   ]
  },
  {
   "cell_type": "code",
   "execution_count": 113,
   "metadata": {},
   "outputs": [],
   "source": [
    "colunas = {'age': 'idade', 'sex': 'sexo', 'cp': 'tipo_dor_peito', 'trestbps': 'pressao_sanguínea_repouso',\n",
    "    'chol': 'colesterol', 'fbs': 'glicemia_jejum', 'restecg': 'resultados_eletrocardiograma',\n",
    "    'thalach': 'freq_card_max', 'exang': 'angina_exercicio', 'oldpeak': 'depressao_st_exercicio',\n",
    "    'slope': 'inclinacao_st_exercicio', 'ca': 'num_vasos_coloridos', 'thal': 'defeito', 'num': 'diagnostico_doenca'}\n",
    "\n",
    "\n",
    "df.rename(columns=colunas, inplace=True)"
   ]
  },
  {
   "cell_type": "code",
   "execution_count": 114,
   "metadata": {
    "jupyter": {
     "outputs_hidden": true
    },
    "tags": []
   },
   "outputs": [
    {
     "data": {
      "text/html": [
       "<div>\n",
       "<style scoped>\n",
       "    .dataframe tbody tr th:only-of-type {\n",
       "        vertical-align: middle;\n",
       "    }\n",
       "\n",
       "    .dataframe tbody tr th {\n",
       "        vertical-align: top;\n",
       "    }\n",
       "\n",
       "    .dataframe thead th {\n",
       "        text-align: right;\n",
       "    }\n",
       "</style>\n",
       "<table border=\"1\" class=\"dataframe\">\n",
       "  <thead>\n",
       "    <tr style=\"text-align: right;\">\n",
       "      <th></th>\n",
       "      <th>idade</th>\n",
       "      <th>sexo</th>\n",
       "      <th>tipo_dor_peito</th>\n",
       "      <th>pressao_sanguínea_repouso</th>\n",
       "      <th>colesterol</th>\n",
       "      <th>glicemia_jejum</th>\n",
       "      <th>resultados_eletrocardiograma</th>\n",
       "      <th>freq_card_max</th>\n",
       "      <th>angina_exercicio</th>\n",
       "      <th>depressao_st_exercicio</th>\n",
       "      <th>inclinacao_st_exercicio</th>\n",
       "      <th>num_vasos_coloridos</th>\n",
       "      <th>defeito</th>\n",
       "      <th>diagnostico_doenca</th>\n",
       "      <th>flag_doente</th>\n",
       "    </tr>\n",
       "  </thead>\n",
       "  <tbody>\n",
       "    <tr>\n",
       "      <th>0</th>\n",
       "      <td>63.0</td>\n",
       "      <td>1.0</td>\n",
       "      <td>1.0</td>\n",
       "      <td>145.0</td>\n",
       "      <td>233.0</td>\n",
       "      <td>1.0</td>\n",
       "      <td>2.0</td>\n",
       "      <td>150.0</td>\n",
       "      <td>0.0</td>\n",
       "      <td>2.3</td>\n",
       "      <td>3.0</td>\n",
       "      <td>0.0</td>\n",
       "      <td>6.0</td>\n",
       "      <td>0</td>\n",
       "      <td>saudáveis</td>\n",
       "    </tr>\n",
       "    <tr>\n",
       "      <th>1</th>\n",
       "      <td>67.0</td>\n",
       "      <td>1.0</td>\n",
       "      <td>4.0</td>\n",
       "      <td>160.0</td>\n",
       "      <td>286.0</td>\n",
       "      <td>0.0</td>\n",
       "      <td>2.0</td>\n",
       "      <td>108.0</td>\n",
       "      <td>1.0</td>\n",
       "      <td>1.5</td>\n",
       "      <td>2.0</td>\n",
       "      <td>3.0</td>\n",
       "      <td>3.0</td>\n",
       "      <td>2</td>\n",
       "      <td>doentes</td>\n",
       "    </tr>\n",
       "    <tr>\n",
       "      <th>2</th>\n",
       "      <td>67.0</td>\n",
       "      <td>1.0</td>\n",
       "      <td>4.0</td>\n",
       "      <td>120.0</td>\n",
       "      <td>229.0</td>\n",
       "      <td>0.0</td>\n",
       "      <td>2.0</td>\n",
       "      <td>129.0</td>\n",
       "      <td>1.0</td>\n",
       "      <td>2.6</td>\n",
       "      <td>2.0</td>\n",
       "      <td>2.0</td>\n",
       "      <td>7.0</td>\n",
       "      <td>1</td>\n",
       "      <td>doentes</td>\n",
       "    </tr>\n",
       "    <tr>\n",
       "      <th>3</th>\n",
       "      <td>37.0</td>\n",
       "      <td>1.0</td>\n",
       "      <td>3.0</td>\n",
       "      <td>130.0</td>\n",
       "      <td>250.0</td>\n",
       "      <td>0.0</td>\n",
       "      <td>0.0</td>\n",
       "      <td>187.0</td>\n",
       "      <td>0.0</td>\n",
       "      <td>3.5</td>\n",
       "      <td>3.0</td>\n",
       "      <td>0.0</td>\n",
       "      <td>3.0</td>\n",
       "      <td>0</td>\n",
       "      <td>saudáveis</td>\n",
       "    </tr>\n",
       "    <tr>\n",
       "      <th>4</th>\n",
       "      <td>41.0</td>\n",
       "      <td>0.0</td>\n",
       "      <td>2.0</td>\n",
       "      <td>130.0</td>\n",
       "      <td>204.0</td>\n",
       "      <td>0.0</td>\n",
       "      <td>2.0</td>\n",
       "      <td>172.0</td>\n",
       "      <td>0.0</td>\n",
       "      <td>1.4</td>\n",
       "      <td>1.0</td>\n",
       "      <td>0.0</td>\n",
       "      <td>3.0</td>\n",
       "      <td>0</td>\n",
       "      <td>saudáveis</td>\n",
       "    </tr>\n",
       "    <tr>\n",
       "      <th>...</th>\n",
       "      <td>...</td>\n",
       "      <td>...</td>\n",
       "      <td>...</td>\n",
       "      <td>...</td>\n",
       "      <td>...</td>\n",
       "      <td>...</td>\n",
       "      <td>...</td>\n",
       "      <td>...</td>\n",
       "      <td>...</td>\n",
       "      <td>...</td>\n",
       "      <td>...</td>\n",
       "      <td>...</td>\n",
       "      <td>...</td>\n",
       "      <td>...</td>\n",
       "      <td>...</td>\n",
       "    </tr>\n",
       "    <tr>\n",
       "      <th>298</th>\n",
       "      <td>45.0</td>\n",
       "      <td>1.0</td>\n",
       "      <td>1.0</td>\n",
       "      <td>110.0</td>\n",
       "      <td>264.0</td>\n",
       "      <td>0.0</td>\n",
       "      <td>0.0</td>\n",
       "      <td>132.0</td>\n",
       "      <td>0.0</td>\n",
       "      <td>1.2</td>\n",
       "      <td>2.0</td>\n",
       "      <td>0.0</td>\n",
       "      <td>7.0</td>\n",
       "      <td>1</td>\n",
       "      <td>doentes</td>\n",
       "    </tr>\n",
       "    <tr>\n",
       "      <th>299</th>\n",
       "      <td>68.0</td>\n",
       "      <td>1.0</td>\n",
       "      <td>4.0</td>\n",
       "      <td>144.0</td>\n",
       "      <td>193.0</td>\n",
       "      <td>1.0</td>\n",
       "      <td>0.0</td>\n",
       "      <td>141.0</td>\n",
       "      <td>0.0</td>\n",
       "      <td>3.4</td>\n",
       "      <td>2.0</td>\n",
       "      <td>2.0</td>\n",
       "      <td>7.0</td>\n",
       "      <td>2</td>\n",
       "      <td>doentes</td>\n",
       "    </tr>\n",
       "    <tr>\n",
       "      <th>300</th>\n",
       "      <td>57.0</td>\n",
       "      <td>1.0</td>\n",
       "      <td>4.0</td>\n",
       "      <td>130.0</td>\n",
       "      <td>131.0</td>\n",
       "      <td>0.0</td>\n",
       "      <td>0.0</td>\n",
       "      <td>115.0</td>\n",
       "      <td>1.0</td>\n",
       "      <td>1.2</td>\n",
       "      <td>2.0</td>\n",
       "      <td>1.0</td>\n",
       "      <td>7.0</td>\n",
       "      <td>3</td>\n",
       "      <td>doentes</td>\n",
       "    </tr>\n",
       "    <tr>\n",
       "      <th>301</th>\n",
       "      <td>57.0</td>\n",
       "      <td>0.0</td>\n",
       "      <td>2.0</td>\n",
       "      <td>130.0</td>\n",
       "      <td>236.0</td>\n",
       "      <td>0.0</td>\n",
       "      <td>2.0</td>\n",
       "      <td>174.0</td>\n",
       "      <td>0.0</td>\n",
       "      <td>0.0</td>\n",
       "      <td>2.0</td>\n",
       "      <td>1.0</td>\n",
       "      <td>3.0</td>\n",
       "      <td>1</td>\n",
       "      <td>doentes</td>\n",
       "    </tr>\n",
       "    <tr>\n",
       "      <th>302</th>\n",
       "      <td>38.0</td>\n",
       "      <td>1.0</td>\n",
       "      <td>3.0</td>\n",
       "      <td>138.0</td>\n",
       "      <td>175.0</td>\n",
       "      <td>0.0</td>\n",
       "      <td>0.0</td>\n",
       "      <td>173.0</td>\n",
       "      <td>0.0</td>\n",
       "      <td>0.0</td>\n",
       "      <td>1.0</td>\n",
       "      <td>?</td>\n",
       "      <td>3.0</td>\n",
       "      <td>0</td>\n",
       "      <td>saudáveis</td>\n",
       "    </tr>\n",
       "  </tbody>\n",
       "</table>\n",
       "<p>303 rows × 15 columns</p>\n",
       "</div>"
      ],
      "text/plain": [
       "     idade  sexo  tipo_dor_peito  pressao_sanguínea_repouso  colesterol  \\\n",
       "0     63.0   1.0             1.0                      145.0       233.0   \n",
       "1     67.0   1.0             4.0                      160.0       286.0   \n",
       "2     67.0   1.0             4.0                      120.0       229.0   \n",
       "3     37.0   1.0             3.0                      130.0       250.0   \n",
       "4     41.0   0.0             2.0                      130.0       204.0   \n",
       "..     ...   ...             ...                        ...         ...   \n",
       "298   45.0   1.0             1.0                      110.0       264.0   \n",
       "299   68.0   1.0             4.0                      144.0       193.0   \n",
       "300   57.0   1.0             4.0                      130.0       131.0   \n",
       "301   57.0   0.0             2.0                      130.0       236.0   \n",
       "302   38.0   1.0             3.0                      138.0       175.0   \n",
       "\n",
       "     glicemia_jejum  resultados_eletrocardiograma  freq_card_max  \\\n",
       "0               1.0                           2.0          150.0   \n",
       "1               0.0                           2.0          108.0   \n",
       "2               0.0                           2.0          129.0   \n",
       "3               0.0                           0.0          187.0   \n",
       "4               0.0                           2.0          172.0   \n",
       "..              ...                           ...            ...   \n",
       "298             0.0                           0.0          132.0   \n",
       "299             1.0                           0.0          141.0   \n",
       "300             0.0                           0.0          115.0   \n",
       "301             0.0                           2.0          174.0   \n",
       "302             0.0                           0.0          173.0   \n",
       "\n",
       "     angina_exercicio  depressao_st_exercicio  inclinacao_st_exercicio  \\\n",
       "0                 0.0                     2.3                      3.0   \n",
       "1                 1.0                     1.5                      2.0   \n",
       "2                 1.0                     2.6                      2.0   \n",
       "3                 0.0                     3.5                      3.0   \n",
       "4                 0.0                     1.4                      1.0   \n",
       "..                ...                     ...                      ...   \n",
       "298               0.0                     1.2                      2.0   \n",
       "299               0.0                     3.4                      2.0   \n",
       "300               1.0                     1.2                      2.0   \n",
       "301               0.0                     0.0                      2.0   \n",
       "302               0.0                     0.0                      1.0   \n",
       "\n",
       "    num_vasos_coloridos defeito  diagnostico_doenca flag_doente  \n",
       "0                   0.0     6.0                   0   saudáveis  \n",
       "1                   3.0     3.0                   2     doentes  \n",
       "2                   2.0     7.0                   1     doentes  \n",
       "3                   0.0     3.0                   0   saudáveis  \n",
       "4                   0.0     3.0                   0   saudáveis  \n",
       "..                  ...     ...                 ...         ...  \n",
       "298                 0.0     7.0                   1     doentes  \n",
       "299                 2.0     7.0                   2     doentes  \n",
       "300                 1.0     7.0                   3     doentes  \n",
       "301                 1.0     3.0                   1     doentes  \n",
       "302                   ?     3.0                   0   saudáveis  \n",
       "\n",
       "[303 rows x 15 columns]"
      ]
     },
     "execution_count": 114,
     "metadata": {},
     "output_type": "execute_result"
    }
   ],
   "source": [
    "df['flag_doente'] = (df['diagnostico_doenca'] != 0).astype('int64')\n",
    "df['flag_doente'].replace({0:'saudáveis', 1:'doentes'}, inplace = True)\n",
    "df"
   ]
  },
  {
   "cell_type": "markdown",
   "metadata": {},
   "source": [
    "## 1. Monte uma bivariada para a variável ```sex``` com as seguintes estatísticas:\n",
    "\n",
    "- Número de *saudáveis*\n",
    "- Número de *doentes*\n",
    "- Total\n",
    "- Quantidade média de doentes\n",
    "- *Odds*\n",
    "- *Odds ratio* (Use o total como referência)\n",
    "- Logito (LOG(*Odds*))\n",
    "- O LOG do *Odds ratio* (com o total como referência) é chamado de *Weight of Evidence* (WOE). Calcule-o."
   ]
  },
  {
   "cell_type": "code",
   "execution_count": 115,
   "metadata": {},
   "outputs": [
    {
     "data": {
      "text/html": [
       "<div>\n",
       "<style scoped>\n",
       "    .dataframe tbody tr th:only-of-type {\n",
       "        vertical-align: middle;\n",
       "    }\n",
       "\n",
       "    .dataframe tbody tr th {\n",
       "        vertical-align: top;\n",
       "    }\n",
       "\n",
       "    .dataframe thead th {\n",
       "        text-align: right;\n",
       "    }\n",
       "</style>\n",
       "<table border=\"1\" class=\"dataframe\">\n",
       "  <thead>\n",
       "    <tr style=\"text-align: right;\">\n",
       "      <th>flag_doente</th>\n",
       "      <th>doentes</th>\n",
       "      <th>saudáveis</th>\n",
       "      <th>total</th>\n",
       "      <th>média de doentes</th>\n",
       "      <th>odds</th>\n",
       "      <th>odds_ratio</th>\n",
       "      <th>logito</th>\n",
       "      <th>WOE</th>\n",
       "    </tr>\n",
       "    <tr>\n",
       "      <th>sexo</th>\n",
       "      <th></th>\n",
       "      <th></th>\n",
       "      <th></th>\n",
       "      <th></th>\n",
       "      <th></th>\n",
       "      <th></th>\n",
       "      <th></th>\n",
       "      <th></th>\n",
       "    </tr>\n",
       "  </thead>\n",
       "  <tbody>\n",
       "    <tr>\n",
       "      <th>0.0</th>\n",
       "      <td>25</td>\n",
       "      <td>72</td>\n",
       "      <td>97</td>\n",
       "      <td>0.257732</td>\n",
       "      <td>0.347222</td>\n",
       "      <td>0.409672</td>\n",
       "      <td>-1.057790</td>\n",
       "      <td>-0.892398</td>\n",
       "    </tr>\n",
       "    <tr>\n",
       "      <th>1.0</th>\n",
       "      <td>114</td>\n",
       "      <td>92</td>\n",
       "      <td>206</td>\n",
       "      <td>0.553398</td>\n",
       "      <td>1.239130</td>\n",
       "      <td>1.461996</td>\n",
       "      <td>0.214410</td>\n",
       "      <td>0.379802</td>\n",
       "    </tr>\n",
       "    <tr>\n",
       "      <th>total</th>\n",
       "      <td>139</td>\n",
       "      <td>164</td>\n",
       "      <td>303</td>\n",
       "      <td>0.458746</td>\n",
       "      <td>0.847561</td>\n",
       "      <td>1.000000</td>\n",
       "      <td>-0.165392</td>\n",
       "      <td>0.000000</td>\n",
       "    </tr>\n",
       "  </tbody>\n",
       "</table>\n",
       "</div>"
      ],
      "text/plain": [
       "flag_doente  doentes  saudáveis  total  média de doentes      odds  \\\n",
       "sexo                                                                 \n",
       "0.0               25         72     97          0.257732  0.347222   \n",
       "1.0              114         92    206          0.553398  1.239130   \n",
       "total            139        164    303          0.458746  0.847561   \n",
       "\n",
       "flag_doente  odds_ratio    logito       WOE  \n",
       "sexo                                         \n",
       "0.0            0.409672 -1.057790 -0.892398  \n",
       "1.0            1.461996  0.214410  0.379802  \n",
       "total          1.000000 -0.165392  0.000000  "
      ]
     },
     "execution_count": 115,
     "metadata": {},
     "output_type": "execute_result"
    }
   ],
   "source": [
    "tab = pd.crosstab(df['sexo'], df['flag_doente'], margins=True, margins_name='total')\n",
    "df['sexo'].replace({0:'Feminino', 1:'Masculino'}, inplace = True)\n",
    "tab['média de doentes'] = tab['doentes'] / tab['total']\n",
    "tab['odds'] = tab['doentes'] / tab['saudáveis']\n",
    "tab['odds_ratio'] = tab['odds']/tab.loc['total','odds']\n",
    "tab['logito'] = np.log(tab['odds'])\n",
    "tab['WOE'] = np.log(tab['odds_ratio'])\n",
    "tab"
   ]
  },
  {
   "cell_type": "markdown",
   "metadata": {},
   "source": [
    "## 2. Monte uma bivariada para a variável ```age``` com as seguintes estatísticas:\n",
    "- Categorize a variável em 5 grupos\n",
    "- Calcule as mesmas quantidades calculadas no execício anterior\n",
    "- Calcule também o valor médio da variável ```age```"
   ]
  },
  {
   "cell_type": "code",
   "execution_count": 116,
   "metadata": {},
   "outputs": [
    {
     "data": {
      "text/plain": [
       "idade_categorias\n",
       "(56, 68]    128\n",
       "(44, 56]    107\n",
       "(32, 44]     54\n",
       "(68, 80]     13\n",
       "(20, 32]      1\n",
       "Name: count, dtype: int64"
      ]
     },
     "execution_count": 116,
     "metadata": {},
     "output_type": "execute_result"
    }
   ],
   "source": [
    "bins = [20, 32, 44, 56, 68, 80]\n",
    "df['idade_categorias'] = pd.cut(df['idade'], bins=bins)\n",
    "df['idade_categorias'].value_counts()"
   ]
  },
  {
   "cell_type": "code",
   "execution_count": 117,
   "metadata": {},
   "outputs": [
    {
     "data": {
      "text/html": [
       "<div>\n",
       "<style scoped>\n",
       "    .dataframe tbody tr th:only-of-type {\n",
       "        vertical-align: middle;\n",
       "    }\n",
       "\n",
       "    .dataframe tbody tr th {\n",
       "        vertical-align: top;\n",
       "    }\n",
       "\n",
       "    .dataframe thead th {\n",
       "        text-align: right;\n",
       "    }\n",
       "</style>\n",
       "<table border=\"1\" class=\"dataframe\">\n",
       "  <thead>\n",
       "    <tr style=\"text-align: right;\">\n",
       "      <th>flag_doente</th>\n",
       "      <th>doentes</th>\n",
       "      <th>saudáveis</th>\n",
       "      <th>total</th>\n",
       "      <th>média de doentes</th>\n",
       "      <th>odds</th>\n",
       "      <th>odds_ratio</th>\n",
       "      <th>logito</th>\n",
       "      <th>WOE</th>\n",
       "    </tr>\n",
       "    <tr>\n",
       "      <th>idade_categorias</th>\n",
       "      <th></th>\n",
       "      <th></th>\n",
       "      <th></th>\n",
       "      <th></th>\n",
       "      <th></th>\n",
       "      <th></th>\n",
       "      <th></th>\n",
       "      <th></th>\n",
       "    </tr>\n",
       "  </thead>\n",
       "  <tbody>\n",
       "    <tr>\n",
       "      <th>(20, 32]</th>\n",
       "      <td>0</td>\n",
       "      <td>1</td>\n",
       "      <td>1</td>\n",
       "      <td>0.000000</td>\n",
       "      <td>0.000000</td>\n",
       "      <td>0.000000</td>\n",
       "      <td>-inf</td>\n",
       "      <td>-inf</td>\n",
       "    </tr>\n",
       "    <tr>\n",
       "      <th>(32, 44]</th>\n",
       "      <td>14</td>\n",
       "      <td>40</td>\n",
       "      <td>54</td>\n",
       "      <td>0.259259</td>\n",
       "      <td>0.350000</td>\n",
       "      <td>0.412950</td>\n",
       "      <td>-1.049822</td>\n",
       "      <td>-0.884430</td>\n",
       "    </tr>\n",
       "    <tr>\n",
       "      <th>(44, 56]</th>\n",
       "      <td>41</td>\n",
       "      <td>66</td>\n",
       "      <td>107</td>\n",
       "      <td>0.383178</td>\n",
       "      <td>0.621212</td>\n",
       "      <td>0.732941</td>\n",
       "      <td>-0.476083</td>\n",
       "      <td>-0.310690</td>\n",
       "    </tr>\n",
       "    <tr>\n",
       "      <th>(56, 68]</th>\n",
       "      <td>79</td>\n",
       "      <td>49</td>\n",
       "      <td>128</td>\n",
       "      <td>0.617188</td>\n",
       "      <td>1.612245</td>\n",
       "      <td>1.902217</td>\n",
       "      <td>0.477628</td>\n",
       "      <td>0.643020</td>\n",
       "    </tr>\n",
       "    <tr>\n",
       "      <th>(68, 80]</th>\n",
       "      <td>5</td>\n",
       "      <td>8</td>\n",
       "      <td>13</td>\n",
       "      <td>0.384615</td>\n",
       "      <td>0.625000</td>\n",
       "      <td>0.737410</td>\n",
       "      <td>-0.470004</td>\n",
       "      <td>-0.304611</td>\n",
       "    </tr>\n",
       "    <tr>\n",
       "      <th>total</th>\n",
       "      <td>139</td>\n",
       "      <td>164</td>\n",
       "      <td>303</td>\n",
       "      <td>0.458746</td>\n",
       "      <td>0.847561</td>\n",
       "      <td>1.000000</td>\n",
       "      <td>-0.165392</td>\n",
       "      <td>0.000000</td>\n",
       "    </tr>\n",
       "  </tbody>\n",
       "</table>\n",
       "</div>"
      ],
      "text/plain": [
       "flag_doente       doentes  saudáveis  total  média de doentes      odds  \\\n",
       "idade_categorias                                                          \n",
       "(20, 32]                0          1      1          0.000000  0.000000   \n",
       "(32, 44]               14         40     54          0.259259  0.350000   \n",
       "(44, 56]               41         66    107          0.383178  0.621212   \n",
       "(56, 68]               79         49    128          0.617188  1.612245   \n",
       "(68, 80]                5          8     13          0.384615  0.625000   \n",
       "total                 139        164    303          0.458746  0.847561   \n",
       "\n",
       "flag_doente       odds_ratio    logito       WOE  \n",
       "idade_categorias                                  \n",
       "(20, 32]            0.000000      -inf      -inf  \n",
       "(32, 44]            0.412950 -1.049822 -0.884430  \n",
       "(44, 56]            0.732941 -0.476083 -0.310690  \n",
       "(56, 68]            1.902217  0.477628  0.643020  \n",
       "(68, 80]            0.737410 -0.470004 -0.304611  \n",
       "total               1.000000 -0.165392  0.000000  "
      ]
     },
     "execution_count": 117,
     "metadata": {},
     "output_type": "execute_result"
    }
   ],
   "source": [
    "tab2 = pd.crosstab(df['idade_categorias'], df['flag_doente'], margins=True, margins_name='total')\n",
    "tab2['média de doentes'] = tab2['doentes'] / tab2['total']\n",
    "tab2['odds'] = tab2['doentes'] / tab2['saudáveis']\n",
    "tab2['odds_ratio'] = tab2['odds']/tab2.loc['total','odds']\n",
    "tab2['logito'] = np.log(tab2['odds'])\n",
    "tab2['WOE'] = np.log(tab2['odds_ratio'])\n",
    "tab2"
   ]
  },
  {
   "cell_type": "markdown",
   "metadata": {},
   "source": [
    "## 3. Visualize a informação da bivariada construída acima através de um gráfico da sua escolha."
   ]
  },
  {
   "cell_type": "markdown",
   "metadata": {},
   "source": [
    "### Gráficos com a bivariada com a variável sexo:"
   ]
  },
  {
   "cell_type": "code",
   "execution_count": 118,
   "metadata": {},
   "outputs": [
    {
     "data": {
      "text/plain": [
       "<Axes: title={'center': 'Saudáveis X doentes por sexo'}, xlabel='Sexo', ylabel='Quantidade'>"
      ]
     },
     "execution_count": 118,
     "metadata": {},
     "output_type": "execute_result"
    },
    {
     "data": {
      "image/png": "[encoded data removed]",
      "text/plain": [
       "<Figure size 640x480 with 1 Axes>"
      ]
     },
     "metadata": {},
     "output_type": "display_data"
    }
   ],
   "source": [
    "tab[['saudáveis', 'doentes']].plot.bar(title='Saudáveis X doentes por sexo', \n",
    "                                       xlabel='Sexo', ylabel='Quantidade', rot=0)"
   ]
  },
  {
   "cell_type": "code",
   "execution_count": 124,
   "metadata": {},
   "outputs": [
    {
     "data": {
      "text/plain": [
       "<Axes: title={'center': 'Média de doentes por sexo'}, xlabel='Sexo', ylabel='Porcentagem'>"
      ]
     },
     "execution_count": 124,
     "metadata": {},
     "output_type": "execute_result"
    },
    {
     "data": {
      "image/png": "[encoded data removed]",
      "text/plain": [
       "<Figure size 640x480 with 1 Axes>"
      ]
     },
     "metadata": {},
     "output_type": "display_data"
    }
   ],
   "source": [
    "tab['média de doentes'].plot.bar(color= 'red', title='Média de doentes por sexo', \n",
    "                                       xlabel='Sexo', ylabel='Porcentagem', rot=0)"
   ]
  },
  {
   "cell_type": "code",
   "execution_count": 120,
   "metadata": {},
   "outputs": [
    {
     "data": {
      "text/plain": [
       "<Axes: title={'center': 'Chance de doentes por sexo'}, xlabel='Sexo', ylabel='Quantidade'>"
      ]
     },
     "execution_count": 120,
     "metadata": {},
     "output_type": "execute_result"
    },
    {
     "data": {
      "image/png": "[encoded data removed]",
      "text/plain": [
       "<Figure size 640x480 with 1 Axes>"
      ]
     },
     "metadata": {},
     "output_type": "display_data"
    }
   ],
   "source": [
    "tab['odds'].plot.bar(color= 'red', title='Chance de doentes por sexo', \n",
    "                                       xlabel='Sexo', ylabel='Quantidade', rot=0)"
   ]
  },
  {
   "cell_type": "markdown",
   "metadata": {},
   "source": [
    "### Gráficos com a bivariada com a variável idade:"
   ]
  },
  {
   "cell_type": "code",
   "execution_count": 123,
   "metadata": {},
   "outputs": [
    {
     "data": {
      "text/plain": [
       "<Axes: title={'center': 'Saudáveis X doentes por idade'}, xlabel='Idade', ylabel='Quantidade'>"
      ]
     },
     "execution_count": 123,
     "metadata": {},
     "output_type": "execute_result"
    },
    {
     "data": {
      "image/png": "[encoded data removed]",
      "text/plain": [
       "<Figure size 640x480 with 1 Axes>"
      ]
     },
     "metadata": {},
     "output_type": "display_data"
    }
   ],
   "source": [
    "tab2[['saudáveis', 'doentes']].plot.bar(title='Saudáveis X doentes por idade', \n",
    "                                       xlabel='Idade', ylabel='Quantidade', rot=0)"
   ]
  },
  {
   "cell_type": "code",
   "execution_count": 126,
   "metadata": {},
   "outputs": [
    {
     "data": {
      "text/plain": [
       "<Axes: title={'center': 'Média de doentes por idade'}, xlabel='Idade', ylabel='Porcentagem'>"
      ]
     },
     "execution_count": 126,
     "metadata": {},
     "output_type": "execute_result"
    },
    {
     "data": {
      "image/png": "[encoded data removed]",
      "text/plain": [
       "<Figure size 640x480 with 1 Axes>"
      ]
     },
     "metadata": {},
     "output_type": "display_data"
    }
   ],
   "source": [
    "tab2['média de doentes'].plot.bar(color= 'red', title='Média de doentes por idade', \n",
    "                                       xlabel='Idade', ylabel='Porcentagem', rot=0)"
   ]
  },
  {
   "cell_type": "code",
   "execution_count": 127,
   "metadata": {},
   "outputs": [
    {
     "data": {
      "text/plain": [
       "<Axes: title={'center': 'Chance de doentes por idade'}, xlabel='Idade', ylabel='Quantidade'>"
      ]
     },
     "execution_count": 127,
     "metadata": {},
     "output_type": "execute_result"
    },
    {
     "data": {
      "image/png": "[encoded data removed]",
      "text/plain": [
       "<Figure size 640x480 with 1 Axes>"
      ]
     },
     "metadata": {},
     "output_type": "display_data"
    }
   ],
   "source": [
    "tab2['odds'].plot.bar(color= 'red', title='Chance de doentes por idade', \n",
    "                                       xlabel='Idade', ylabel='Quantidade', rot=0)"
   ]
  }
 ],
 "metadata": {
  "kernelspec": {
   "display_name": "Python 3 (ipykernel)",
   "language": "python",
   "name": "python3"
  },
  "language_info": {
   "codemirror_mode": {
    "name": "ipython",
    "version": 3
   },
   "file_extension": ".py",
   "mimetype": "text/x-python",
   "name": "python",
   "nbconvert_exporter": "python",
   "pygments_lexer": "ipython3",
   "version": "3.11.7"
  }
 },
 "nbformat": 4,
 "nbformat_minor": 4
}
