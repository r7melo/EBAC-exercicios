{
 "cells": [
  {
   "cell_type": "markdown",
   "metadata": {},
   "source": [
    "# PCA - Tarefa 01: *HAR* com PCA\n",
    "\n",
    "Vamos trabalhar com a base da demonstração feita em aula, mas vamos explorar um pouco melhor como é o desempenho da árvore variando o número de componentes principais."
   ]
  },
  {
   "cell_type": "code",
   "execution_count": 1,
   "metadata": {},
   "outputs": [],
   "source": [
    "import pandas as pd\n",
    "import numpy as np\n",
    "import matplotlib.pyplot as plt\n",
    "\n",
    "from sklearn.tree import DecisionTreeClassifier\n",
    "\n",
    "from sklearn.decomposition import PCA\n",
    "from sklearn.tree import DecisionTreeClassifier\n",
    "from sklearn.metrics import accuracy_score\n",
    "from sklearn.ensemble import RandomForestClassifier\n",
    "from sklearn.metrics import confusion_matrix, ConfusionMatrixDisplay\n",
    "from sklearn.model_selection import train_test_split\n",
    "\n",
    "from time import time\n",
    "\n",
    "filename_features = \"UCI HAR Dataset/features.txt\"\n",
    "filename_labels = \"UCI HAR Dataset/activity_labels.txt\"\n",
    "\n",
    "filename_subtrain = \"UCI HAR Dataset/train/subject_train.txt\"\n",
    "filename_xtrain = \"UCI HAR Dataset/train/X_train.txt\"\n",
    "filename_ytrain = \"UCI HAR Dataset/train/y_train.txt\"\n",
    "\n",
    "filename_subtest = \"UCI HAR Dataset/test/subject_test.txt\"\n",
    "filename_xtest = \"UCI HAR Dataset/test/X_test.txt\"\n",
    "filename_ytest = \"UCI HAR Dataset/test/y_test.txt\"\n",
    "\n",
    "features = pd.read_csv(filename_features, header=None, names=['nome_var'], sep=\"#\")['nome_var']\n",
    "\n",
    "labels = pd.read_csv(filename_labels, delim_whitespace=True, header=None, names=['cod_label', 'label'])\n",
    "\n",
    "subject_train = pd.read_csv(filename_subtrain, header=None, names=['subject_id'])['subject_id']\n",
    "X_train = pd.read_csv(filename_xtrain, delim_whitespace=True, header=None, names=features.tolist())\n",
    "y_train = pd.read_csv(filename_ytrain, header=None, names=['cod_label'])['cod_label']\n",
    "\n",
    "subject_test = pd.read_csv(filename_subtest, header=None, names=['subject_id'])['subject_id']\n",
    "X_test = pd.read_csv(filename_xtest, delim_whitespace=True, header=None, names=features.tolist())\n",
    "y_test = pd.read_csv(filename_ytest, header=None, names=['cod_label'])['cod_label']"
   ]
  },
  {
   "cell_type": "code",
   "execution_count": 2,
   "metadata": {},
   "outputs": [],
   "source": [
    "X_train, X_test, y_train, y_test = train_test_split(X_train, y_train)"
   ]
  },
  {
   "cell_type": "markdown",
   "metadata": {},
   "source": [
    "## Árvore de decisão\n",
    "\n",
    "Rode uma árvore de decisão com todas as variáveis, utilizando o ```ccp_alpha=0.001```. Avalie a acurácia nas bases de treinamento e teste. Avalie o tempo de processamento."
   ]
  },
  {
   "cell_type": "code",
   "execution_count": 3,
   "metadata": {},
   "outputs": [
    {
     "name": "stdout",
     "output_type": "stream",
     "text": [
      "Acurácia da melhor árvore na base de treino:    97.7\n",
      "Acurácia da melhor árvore na base de teste:     93.8\n",
      "CPU times: total: 5.89 s\n",
      "Wall time: 6.79 s\n"
     ]
    }
   ],
   "source": [
    "%%time\n",
    "\n",
    "clf = DecisionTreeClassifier(random_state=1234, ccp_alpha = 0.001).fit(X_train, y_train)\n",
    "\n",
    "train_score = clf.score(X_train, y_train)\n",
    "test_score = clf.score(X_test, y_test)\n",
    "\n",
    "print(f'Acurácia da melhor árvore na base de treino:    {train_score*100:.1f}')\n",
    "print(f'Acurácia da melhor árvore na base de teste:     {test_score*100:.1f}')"
   ]
  },
  {
   "cell_type": "markdown",
   "metadata": {},
   "source": [
    "## Árvore com PCA\n",
    "\n",
    "Faça uma análise de componemtes principais das variáveis originais. Utilize apenas uma componente. Faça uma árvore de decisão com esta componente como variável explicativa.\n",
    "\n",
    "- Avalie a acurácia nas bases de treinamento e teste\n",
    "- Avalie o tempo de processamento"
   ]
  },
  {
   "cell_type": "code",
   "execution_count": 4,
   "metadata": {},
   "outputs": [
    {
     "name": "stdout",
     "output_type": "stream",
     "text": [
      "Acurácia da melhor árvore na base de treino:    49.7\n",
      "Acurácia da melhor árvore na base de teste:     50.4\n",
      "CPU times: total: 875 ms\n",
      "Wall time: 439 ms\n"
     ]
    }
   ],
   "source": [
    "%%time\n",
    "prcomp = PCA(n_components=1).fit(X_train)\n",
    "\n",
    "pc_treino = prcomp.transform(X_train)\n",
    "pc_teste  = prcomp.transform(X_test)\n",
    "\n",
    "n = 1\n",
    "\n",
    "colunas = ['cp'+str(x+1) for x in list(range(n))]\n",
    "\n",
    "pc_train = pd.DataFrame(pc_treino[:,:n], columns = colunas)\n",
    "pc_test  = pd.DataFrame( pc_teste[:,:n], columns = colunas)\n",
    "\n",
    "clf = DecisionTreeClassifier(random_state=1234, ccp_alpha=0.001)\n",
    "clf = clf.fit(pc_train, y_train)\n",
    "train_score = clf.score(pc_train, y_train)\n",
    "test_score = clf.score(pc_test,y_test)\n",
    "\n",
    "print(f'Acurácia da melhor árvore na base de treino:    {train_score*100:.1f}')\n",
    "print(f'Acurácia da melhor árvore na base de teste:     {test_score*100:.1f}')"
   ]
  },
  {
   "cell_type": "markdown",
   "metadata": {},
   "source": [
    "### Avalie a acurácia nas bases de treinamento e teste ee o tempo de processament\n",
    "**R:** A acurácia foi relativamente baixa em comparação com a árvore de decisão original, o que se explica pelo uso de apenas uma variável para análise. Por outro lado, o tempo de processamento foi muito menor, visto que a árvore de decisão original consumiu cerca de 5,84 segundos, enquanto a árvore com PCA não consumiu nem 1 segundo.o"
   ]
  },
  {
   "cell_type": "markdown",
   "metadata": {},
   "source": [
    "## Testando o número de componentes\n",
    "\n",
    "Com base no código acima, teste a árvore de classificação com pelo menos as seguintes possibilidades de quantidades de componentes: ```[1, 2, 5, 10, 50]```. Avalie para cada uma delas:\n",
    "\n",
    "- Acurácia nas bases de treino e teste\n",
    "- Tempo de processamento\n"
   ]
  },
  {
   "cell_type": "code",
   "execution_count": 5,
   "metadata": {},
   "outputs": [
    {
     "name": "stdout",
     "output_type": "stream",
     "text": [
      "Número de componentes: 1\n",
      "Acurácia no treino: 49.7\n",
      "Acurácia no teste: 50.4\n",
      "Tempo: 0.09s\n",
      "\n",
      "\n",
      "Número de componentes: 2\n",
      "Acurácia no treino: 62.1\n",
      "Acurácia no teste: 59.1\n",
      "Tempo: 0.09s\n",
      "\n",
      "\n",
      "Número de componentes: 5\n",
      "Acurácia no treino: 86.1\n",
      "Acurácia no teste: 81.2\n",
      "Tempo: 0.15s\n",
      "\n",
      "\n",
      "Número de componentes: 10\n",
      "Acurácia no treino: 89.9\n",
      "Acurácia no teste: 85.2\n",
      "Tempo: 0.25s\n",
      "\n",
      "\n",
      "Número de componentes: 50\n",
      "Acurácia no treino: 92.4\n",
      "Acurácia no teste: 85.7\n",
      "Tempo: 1.49s\n",
      "\n",
      "\n"
     ]
    }
   ],
   "source": [
    "componentes = [1, 2, 5, 10, 50]\n",
    "\n",
    "train_accuracies = []\n",
    "test_accuracies = []\n",
    "tempos = []\n",
    "\n",
    "for n in componentes:\n",
    "    prcomp = PCA(n_components=n).fit(X_train)\n",
    "    pc_treino = prcomp.transform(X_train)\n",
    "    pc_teste  = prcomp.transform(X_test)\n",
    "    \n",
    "    clf = DecisionTreeClassifier(random_state=1234, ccp_alpha=0.001)\n",
    "    \n",
    "    # Medindo o tempo de treinamento\n",
    "    start_train = time()\n",
    "    clf.fit(pc_treino, y_train)\n",
    "    end_train = time()\n",
    "    treino_tempo = end_train - start_train\n",
    "    \n",
    "    train_pred = clf.predict(pc_treino)\n",
    "    train_acc = accuracy_score(y_train, train_pred)\n",
    "    \n",
    "    # Medindo o tempo de teste\n",
    "    start_test = time()\n",
    "    test_pred = clf.predict(pc_teste)\n",
    "    end_test = time()\n",
    "    teste_tempo = end_train - start_train\n",
    "    test_acc = accuracy_score(y_test, test_pred)\n",
    "    \n",
    "    # Somando tempo de treinamento e teste\n",
    "    tempo_total = treino_tempo + teste_tempo\n",
    "    \n",
    "    train_accuracies.append(train_acc)\n",
    "    test_accuracies.append(test_acc)\n",
    "    tempos.append(tempo_total)\n",
    "    \n",
    "    print(f\"Número de componentes: {n}\")\n",
    "    print(f\"Acurácia no treino: {train_acc*100:.1f}\")\n",
    "    print(f\"Acurácia no teste: {test_acc*100:.1f}\")\n",
    "    print(f\"Tempo: {tempo_total:.2f}s\")\n",
    "    print('\\n')"
   ]
  },
  {
   "cell_type": "markdown",
   "metadata": {},
   "source": [
    "## Conclua\n",
    "\n",
    "- O que aconteceu com a acurácia?\n",
    "- O que aconteceu com o tempo de processamento?"
   ]
  },
  {
   "cell_type": "markdown",
   "metadata": {},
   "source": [
    "**R:** Podemos notar que, conforme aumentamos o número de componentes (variáveis) analisadas na árvore utilizando PCA, o tempo de processamento e a acurácia aumentam. Na última opção, com 50 variáveis, temos uma acurácia de cerca de 92.4% na base de treino e 85.7% na base de teste, em comparação com a árvore sem PCA, que teve 97,7% na base de treino e 93,8% na base de teste. No entanto, também é importante considerar que, utilizando as 50 variáveis, o tempo de processamento foi de 1.49s segundos, comparado aos 5,89 segundos sem o uso do PCA."
   ]
  }
 ],
 "metadata": {
  "kernelspec": {
   "display_name": "Python 3 (ipykernel)",
   "language": "python",
   "name": "python3"
  },
  "language_info": {
   "codemirror_mode": {
    "name": "ipython",
    "version": 3
   },
   "file_extension": ".py",
   "mimetype": "text/x-python",
   "name": "python",
   "nbconvert_exporter": "python",
   "pygments_lexer": "ipython3",
   "version": "3.11.7"
  },
  "toc": {
   "base_numbering": 1,
   "nav_menu": {},
   "number_sections": true,
   "sideBar": true,
   "skip_h1_title": true,
   "title_cell": "Índice",
   "title_sidebar": "Conteúdo",
   "toc_cell": false,
   "toc_position": {},
   "toc_section_display": true,
   "toc_window_display": false
  },
  "varInspector": {
   "cols": {
    "lenName": 16,
    "lenType": 16,
    "lenVar": 40
   },
   "kernels_config": {
    "python": {
     "delete_cmd_postfix": "",
     "delete_cmd_prefix": "del ",
     "library": "var_list.py",
     "varRefreshCmd": "print(var_dic_list())"
    },
    "r": {
     "delete_cmd_postfix": ") ",
     "delete_cmd_prefix": "rm(",
     "library": "var_list.r",
     "varRefreshCmd": "cat(var_dic_list()) "
    }
   },
   "types_to_exclude": [
    "module",
    "function",
    "builtin_function_or_method",
    "instance",
    "_Feature"
   ],
   "window_display": false
  }
 },
 "nbformat": 4,
 "nbformat_minor": 4
}
