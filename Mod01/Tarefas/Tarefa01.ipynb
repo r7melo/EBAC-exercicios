{
  "nbformat": 4,
  "nbformat_minor": 0,
  "metadata": {
    "colab": {
      "provenance": [],
      "toc_visible": true,
      "collapsed_sections": [
        "KJqp9AANOCtf",
        "d9jDtUbDOE1-",
        "tFYOPLS3xiwe",
        "yUJ6kdony6Pr"
      ]
    },
    "kernelspec": {
      "name": "python3",
      "display_name": "Python 3"
    }
  },
  "cells": [
    {
      "cell_type": "markdown",
      "metadata": {
        "id": "KJqp9AANOCtf"
      },
      "source": [
        "<img src=\"https://raw.githubusercontent.com/andre-marcos-perez/ebac-course-utils/main/media/logo/newebac_logo_black_half.png\" alt=\"ebac-logo\">\n",
        "\n",
        "---\n",
        "\n",
        "# **Módulo** | Python: Variáveis & Tipos de Dados\n",
        "Caderno de **Exercícios**<br> \n",
        "Professor [André Perez](https://www.linkedin.com/in/andremarcosperez/)\n",
        "\n",
        "---"
      ]
    },
    {
      "cell_type": "markdown",
      "metadata": {
        "id": "d9jDtUbDOE1-"
      },
      "source": [
        "# **Tópicos**\n",
        "\n",
        "<ol type=\"1\">\n",
        "  <li>Introdução ao Google Colab;</li>\n",
        "  <li>Variáveis;</li>\n",
        "  <li>Números;</li>\n",
        "  <li><i>Strings;</i></li>\n",
        "  <li>Boleanos.</li>\n",
        "</ol>"
      ]
    },
    {
      "cell_type": "markdown",
      "metadata": {
        "id": "SmoHgt-lwkpD"
      },
      "source": [
        "---"
      ]
    },
    {
      "cell_type": "markdown",
      "metadata": {
        "id": "GABI6OW8OfQ2"
      },
      "source": [
        "# **Exercícios**"
      ]
    },
    {
      "cell_type": "markdown",
      "metadata": {
        "id": "muD1vxozykSC"
      },
      "source": [
        "## 1\\. Google Colab"
      ]
    },
    {
      "cell_type": "markdown",
      "metadata": {
        "id": "ahrFfCuBxJKs"
      },
      "source": [
        "Crie uma célula de código que escreva o texto \"Olá mundo!\", utilize o comando `print`."
      ]
    },
    {
      "cell_type": "markdown",
      "metadata": {
        "id": "KI9zQRT2xa7m"
      },
      "source": [
        "Crie uma célua de texto e adicione uma imagem."
      ]
    },
    {
      "cell_type": "code",
      "source": [
        "print('Olá mundo!')"
      ],
      "metadata": {
        "colab": {
          "base_uri": "https://localhost:8080/"
        },
        "id": "PzhlREuxGABK",
        "outputId": "3189a5a9-0bc1-4295-bd92-ba7cbfdcf082"
      },
      "execution_count": 34,
      "outputs": [
        {
          "output_type": "stream",
          "name": "stdout",
          "text": [
            "Olá mundo!\n"
          ]
        }
      ]
    },
    {
      "cell_type": "markdown",
      "source": [
        "Olá mundo! (adicionando imagem aleatória)\n",
        "\n",
        "![country_detail_pokemon.png](data:image/png;base64,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)"
      ],
      "metadata": {
        "id": "o_9dVDj3HGm4"
      }
    },
    {
      "cell_type": "markdown",
      "metadata": {
        "id": "zMN1Q3jdwoJm"
      },
      "source": [
        "---"
      ]
    },
    {
      "cell_type": "markdown",
      "metadata": {
        "id": "tFYOPLS3xiwe"
      },
      "source": [
        "## 2\\. Números"
      ]
    },
    {
      "cell_type": "markdown",
      "metadata": {
        "id": "O2G9gt7tx2c-"
      },
      "source": [
        "Preencha as células de código para preencher os valores de (A), (B) e (C) na tabela de ticket médio abaixo:\n",
        "\n",
        "<br>\n",
        "\n",
        "| Dia   | Valor Total Vendas | Qtd Total Vendas | Ticket Medio |\n",
        "|-------|--------------------|------------------|--------------|\n",
        "| 19/01 | (A)                | 3                | 320.52       |\n",
        "| 20/01 | 834.47             | (B)              | 119.21       |\n",
        "| 23/01 | 15378.12           | 5                | (C)          |"
      ]
    },
    {
      "cell_type": "code",
      "metadata": {
        "id": "nsrKH9EizNRD",
        "colab": {
          "base_uri": "https://localhost:8080/"
        },
        "outputId": "d6bf2bca-71dc-4406-c845-2c9f5fa02c62"
      },
      "source": [
        "tkt_19 = \t320.52\n",
        "sqv_19 = 3\n",
        "\n",
        "svv_19 = tkt_19 * sqv_19\n",
        "print(svv_19)"
      ],
      "execution_count": 8,
      "outputs": [
        {
          "output_type": "stream",
          "name": "stdout",
          "text": [
            "961.56\n"
          ]
        }
      ]
    },
    {
      "cell_type": "code",
      "metadata": {
        "id": "QQ1GBGHJzMmi",
        "colab": {
          "base_uri": "https://localhost:8080/"
        },
        "outputId": "244a7586-e204-4dd3-ab38-b9473b794773"
      },
      "source": [
        "svv_20 = \t834.47\n",
        "tkt_20 = \t119.21\n",
        "\n",
        "sqv_20 = svv_20 / tkt_20\n",
        "print(sqv_20)"
      ],
      "execution_count": 9,
      "outputs": [
        {
          "output_type": "stream",
          "name": "stdout",
          "text": [
            "7.000000000000001\n"
          ]
        }
      ]
    },
    {
      "cell_type": "code",
      "metadata": {
        "id": "W-li0nSMzKNa",
        "colab": {
          "base_uri": "https://localhost:8080/"
        },
        "outputId": "abbcf589-38db-44a4-c3cb-e383cbf85f75"
      },
      "source": [
        "svv_23 = \t15378.12\n",
        "sqv_23 = 5\n",
        "\n",
        "tkt_23 = svv_23 / sqv_23\n",
        "print(tkt_23)"
      ],
      "execution_count": 10,
      "outputs": [
        {
          "output_type": "stream",
          "name": "stdout",
          "text": [
            "3075.6240000000003\n"
          ]
        }
      ]
    },
    {
      "cell_type": "markdown",
      "metadata": {
        "id": "3eoP-Vj9yzh8"
      },
      "source": [
        "---"
      ]
    },
    {
      "cell_type": "markdown",
      "metadata": {
        "id": "yUJ6kdony6Pr"
      },
      "source": [
        "## 3\\. Strings"
      ]
    },
    {
      "cell_type": "markdown",
      "metadata": {
        "id": "KDuZpg-5zCvO"
      },
      "source": [
        "Aplique três métodos distintos na *string* abaixo, você pode conferir alguns métodos neste [link](https://www.w3schools.com/python/python_ref_string.asp):"
      ]
    },
    {
      "cell_type": "code",
      "metadata": {
        "id": "k9zbyf7BzjKj"
      },
      "source": [
        "cancao = 'Roda mundo, roda gigante, roda moinho, roda pião.'"
      ],
      "execution_count": 12,
      "outputs": []
    },
    {
      "cell_type": "code",
      "source": [
        "print(cancao.upper())"
      ],
      "metadata": {
        "colab": {
          "base_uri": "https://localhost:8080/"
        },
        "id": "Sxc7Zk9-JnvP",
        "outputId": "f865cf7a-85aa-4ffd-ea2a-efdd573add12"
      },
      "execution_count": 13,
      "outputs": [
        {
          "output_type": "stream",
          "name": "stdout",
          "text": [
            "RODA MUNDO, RODA GIGANTE, RODA MOINHO, RODA PIÃO.\n"
          ]
        }
      ]
    },
    {
      "cell_type": "code",
      "source": [
        "print(cancao.title())"
      ],
      "metadata": {
        "colab": {
          "base_uri": "https://localhost:8080/"
        },
        "id": "V5WyOLTuJxc2",
        "outputId": "fe88cc91-bf6e-46ed-e52f-d9aa210c589b"
      },
      "execution_count": 14,
      "outputs": [
        {
          "output_type": "stream",
          "name": "stdout",
          "text": [
            "Roda Mundo, Roda Gigante, Roda Moinho, Roda Pião.\n"
          ]
        }
      ]
    },
    {
      "cell_type": "code",
      "source": [
        "print(cancao.replace('gigante', 'grande'))"
      ],
      "metadata": {
        "colab": {
          "base_uri": "https://localhost:8080/"
        },
        "id": "VoaOfKvUJxPJ",
        "outputId": "d21746ce-afd0-4d97-e089-b73471f645a0"
      },
      "execution_count": 27,
      "outputs": [
        {
          "output_type": "stream",
          "name": "stdout",
          "text": [
            "Roda mundo, roda grande, roda moinho, roda pião.\n"
          ]
        }
      ]
    },
    {
      "cell_type": "markdown",
      "metadata": {
        "id": "guZMHXVq0FnC"
      },
      "source": [
        "Extraia da string abaixo o valor da taxa **selic** na variável `selic` e o valor do **ano** na variavel `ano`. Imprima os valores na tela."
      ]
    },
    {
      "cell_type": "code",
      "metadata": {
        "id": "cbx_P4IQ0agK"
      },
      "source": [
        "noticia = 'Selic vai a 2,75% e supera expectativas; é a primeira alta em 6 anos.'"
      ],
      "execution_count": 39,
      "outputs": []
    },
    {
      "cell_type": "markdown",
      "metadata": {
        "id": "wWzbu-OC0z3L"
      },
      "source": [
        "---"
      ]
    },
    {
      "cell_type": "markdown",
      "source": [
        "Extrair a taxa Selic"
      ],
      "metadata": {
        "id": "jCoG8pH1SLO4"
      }
    },
    {
      "cell_type": "code",
      "source": [
        "print(noticia)\n",
        "posicao_char_divisao = noticia.find(';')\n",
        "print(posicao_char_divisao)\n",
        "selic_noticia = noticia[0:posicao_char_divisao]\n",
        "print(selic_noticia)\n",
        "tax_selic = selic_noticia [12:16]\n",
        "print(tax_selic)\n"
      ],
      "metadata": {
        "colab": {
          "base_uri": "https://localhost:8080/"
        },
        "id": "3KP-jq40L6ep",
        "outputId": "f1e25312-6d0f-451d-8785-8c531a399f03"
      },
      "execution_count": 86,
      "outputs": [
        {
          "output_type": "stream",
          "name": "stdout",
          "text": [
            "Selic vai a 2,75% e supera expectativas; é a primeira alta em 6 anos.\n",
            "39\n",
            "Selic vai a 2,75% e supera expectativas\n",
            "2,75\n"
          ]
        }
      ]
    },
    {
      "cell_type": "markdown",
      "source": [
        "Extrair o valor do ano "
      ],
      "metadata": {
        "id": "4xxeVIcLSoo-"
      }
    },
    {
      "cell_type": "code",
      "source": [
        "print(noticia)\n",
        "posicao_char_divisao = noticia.find(';')\n",
        "print(posicao_char_divisao)\n",
        "val_ano = noticia[62:68]\n",
        "print(val_ano)\n",
        "\n",
        "\n"
      ],
      "metadata": {
        "colab": {
          "base_uri": "https://localhost:8080/"
        },
        "id": "rr-C70bOTJNi",
        "outputId": "41c8a01e-c7fa-4b58-cdc2-930fc3e5ae26"
      },
      "execution_count": 98,
      "outputs": [
        {
          "output_type": "stream",
          "name": "stdout",
          "text": [
            "Selic vai a 2,75% e supera expectativas; é a primeira alta em 6 anos.\n",
            "39\n",
            "6 anos\n"
          ]
        }
      ]
    },
    {
      "cell_type": "markdown",
      "metadata": {
        "id": "no8w_Ati01xP"
      },
      "source": [
        "## 4\\. Booleanos"
      ]
    },
    {
      "cell_type": "markdown",
      "metadata": {
        "id": "D_0tC3SC099N"
      },
      "source": [
        "Utilize a tabela da verdade para responder: qual o valor da variável x?"
      ]
    },
    {
      "cell_type": "code",
      "metadata": {
        "id": "XwIEbxf91SpU"
      },
      "source": [
        "a = False\n",
        "b = True\n",
        "\n",
        "x = not a & b"
      ],
      "execution_count": 99,
      "outputs": []
    },
    {
      "cell_type": "code",
      "source": [
        "print(not True)\n",
        "print(not False)"
      ],
      "metadata": {
        "colab": {
          "base_uri": "https://localhost:8080/"
        },
        "id": "nOupPvRFeqrc",
        "outputId": "73c64ce2-42c3-4830-ad7b-c7a541c795fd"
      },
      "execution_count": 103,
      "outputs": [
        {
          "output_type": "stream",
          "name": "stdout",
          "text": [
            "False\n",
            "True\n"
          ]
        }
      ]
    }
  ]
}