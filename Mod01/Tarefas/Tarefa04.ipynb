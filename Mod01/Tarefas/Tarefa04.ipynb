{
  "cells": [
    {
      "cell_type": "markdown",
      "metadata": {
        "id": "KJqp9AANOCtf"
      },
      "source": [
        "<img src=\"https://raw.githubusercontent.com/andre-marcos-perez/ebac-course-utils/main/media/logo/newebac_logo_black_half.png\" alt=\"ebac-logo\">\n",
        "\n",
        "---\n",
        "\n",
        "# **Módulo** | Python: Arquivos & Funções\n",
        "Caderno de **Exercícios**<br>\n",
        "Professor [André Perez](https://www.linkedin.com/in/andremarcosperez/)\n",
        "\n",
        "---"
      ]
    },
    {
      "cell_type": "markdown",
      "metadata": {
        "id": "d9jDtUbDOE1-"
      },
      "source": [
        "# **Tópicos**\n",
        "\n",
        "<ol type=\"1\">\n",
        "  <li>Leitura;</li>\n",
        "  <li>Escrita;</li>\n",
        "  <li>Funções;</li>\n",
        "  <li>Escopo.</li>\n",
        "</ol>"
      ]
    },
    {
      "cell_type": "markdown",
      "metadata": {
        "id": "SmoHgt-lwkpD"
      },
      "source": [
        "---"
      ]
    },
    {
      "cell_type": "markdown",
      "metadata": {
        "id": "GABI6OW8OfQ2"
      },
      "source": [
        "# **Exercícios**"
      ]
    },
    {
      "cell_type": "markdown",
      "metadata": {
        "id": "muD1vxozykSC"
      },
      "source": [
        "## 0\\. Preparação do ambiente"
      ]
    },
    {
      "cell_type": "markdown",
      "metadata": {
        "id": "ahrFfCuBxJKs"
      },
      "source": [
        "Neste exercício vamos trabalhar com os arquivos de csv e texto definidos abaixo. Execute cada uma das células de código para escrever os arquivos na sua máquina virtual."
      ]
    },
    {
      "cell_type": "markdown",
      "metadata": {
        "id": "u0uFuhRSq_hQ"
      },
      "source": [
        "* **carros.csv**: arquivo csv com informações sobre carros (venda, manutenção, portas, etc.)."
      ]
    },
    {
      "cell_type": "code",
      "execution_count": 2,
      "metadata": {
        "id": "daMf-xaXqKs2",
        "colab": {
          "base_uri": "https://localhost:8080/"
        },
        "outputId": "45b89b88-2020-4da1-a635-ac75eba8f798"
      },
      "outputs": [
        {
          "output_type": "stream",
          "name": "stdout",
          "text": [
            "Overwriting carros.csv\n"
          ]
        }
      ],
      "source": [
        "%%writefile carros.csv\n",
        "id,valor_venda,valor_manutencao,portas,pessoas,porta_malas\n",
        "1,vhigh,med,2,2,small\n",
        "2,med,vhigh,2,2,small\n",
        "3,low,vhigh,2,2,small\n",
        "4,low,high,2,2,small\n",
        "5,low,high,2,2,small\n",
        "6,low,high,4,4,big\n",
        "7,low,high,4,4,big\n",
        "8,low,med,2,2,small\n",
        "9,low,med,2,2,small\n",
        "10,low,med,2,2,small\n",
        "11,low,med,4,4,big\n",
        "12,low,low,2,2,small\n",
        "13,low,low,4,4,small\n",
        "14,low,low,4,4,med"
      ]
    },
    {
      "cell_type": "markdown",
      "metadata": {
        "id": "X0Z2PhbCrTz1"
      },
      "source": [
        "* **musica.txt**: arquivo texto com a letra da música Roda Viva do Chico Buarque."
      ]
    },
    {
      "cell_type": "code",
      "execution_count": 34,
      "metadata": {
        "id": "m7Ge2rggrU73",
        "colab": {
          "base_uri": "https://localhost:8080/"
        },
        "outputId": "c2b6234a-3316-4617-bd53-982b6def5ca2"
      },
      "outputs": [
        {
          "output_type": "stream",
          "name": "stdout",
          "text": [
            "Writing musica.txt\n"
          ]
        }
      ],
      "source": [
        "%%writefile musica.txt\n",
        "Roda Viva\n",
        "Chico Buarque\n",
        "\n",
        "Tem dias que a gente se sente\n",
        "Como quem partiu ou morreu\n",
        "A gente estancou de repente\n",
        "Ou foi o mundo então que cresceu\n",
        "A gente quer ter voz ativa\n",
        "No nosso destino mandar\n",
        "Mas eis que chega a roda viva\n",
        "E carrega o destino pra lá\n",
        "\n",
        "Roda mundo, roda-gigante\n",
        "Roda moinho, roda pião\n",
        "\n",
        "O tempo rodou num instante\n",
        "Nas voltas do meu coração\n",
        "A gente vai contra a corrente\n",
        "Até não poder resistir\n",
        "Na volta do barco é que sente\n",
        "O quanto deixou de cumprir\n",
        "Faz tempo que a gente cultiva\n",
        "A mais linda roseira que há\n",
        "Mas eis que chega a roda viva\n",
        "E carrega a roseira pra lá\n",
        "\n",
        "Roda mundo, roda-gigante\n",
        "Roda moinho, roda pião"
      ]
    },
    {
      "cell_type": "markdown",
      "metadata": {
        "id": "zMN1Q3jdwoJm"
      },
      "source": [
        "---"
      ]
    },
    {
      "cell_type": "markdown",
      "metadata": {
        "id": "tCO_x6BEBoxB"
      },
      "source": [
        "## 1. Extração de coluna de arquivo csv"
      ]
    },
    {
      "cell_type": "markdown",
      "metadata": {
        "id": "a9vYwJyBBoxB"
      },
      "source": [
        "1.1. Extraia os valores `valor_venda` e armazena em uma lista."
      ]
    },
    {
      "cell_type": "code",
      "execution_count": 20,
      "metadata": {
        "colab": {
          "base_uri": "https://localhost:8080/"
        },
        "id": "t5gNnj9oBoxC",
        "outputId": "2ee56e85-3396-4b85-accc-c37d0548030b"
      },
      "outputs": [
        {
          "output_type": "stream",
          "name": "stdout",
          "text": [
            "['vhigh', 'med', 'low', 'low', 'low', 'low', 'low', 'low', 'low', 'low', 'low', 'low', 'low', 'low']\n"
          ]
        }
      ],
      "source": [
        "valor_venda = []\n",
        "\n",
        "with open(file='./carros.csv', mode='r', encoding='utf8') as arquivo:\n",
        "    linha = arquivo.readline()# lê o cabeçalho\n",
        "    linha = arquivo.readline()# lê a primeira linha\n",
        "    while linha:\n",
        "        linha_separada = linha.split(sep=',')# quebra a string nas virgulas e salva os resultados em uma lista\n",
        "        vv = linha_separada[1]# seleciona o segundo elemento da lista\n",
        "        valor_venda.append(vv)# salva o valor na lista de valor_venda\n",
        "        linha = arquivo.readline()# lê uma nova linha, se a linha não existir, salva o valor None\n",
        "print(valor_venda)"
      ]
    },
    {
      "cell_type": "markdown",
      "metadata": {
        "id": "cDkiY--eBoxC"
      },
      "source": [
        "1.2 Complete a função abaixo para extrair uma coluna, do arquivo csv em uma lista.\n"
      ]
    },
    {
      "cell_type": "code",
      "source": [
        "def extrai_coluna_csv(nome_arquivo: str, indice_coluna: int, tipo_dado: str):\n",
        "    coluna = []\n",
        "    with open(file=nome_arquivo, mode='r', encoding='utf8') as fp:\n",
        "        linha= fp.readline()\n",
        "        linha= fp.readline()\n",
        "        while linha:\n",
        "            linha_separada = linha.split(sep=',')\n",
        "            indice = linha_separada[indice_coluna]\n",
        "            if tipo_dado == 'str':\n",
        "              str(indice)\n",
        "            elif tipo_dado == 'int':\n",
        "              int(indice)\n",
        "            elif tipo_dado == 'float':\n",
        "              float(indice)\n",
        "            else:\n",
        "              bool(indice)\n",
        "            coluna.append(indice)\n",
        "            linha = fp.readline()\n",
        "\n",
        "    return coluna"
      ],
      "metadata": {
        "id": "6-iftffTFsJM"
      },
      "execution_count": 21,
      "outputs": []
    },
    {
      "cell_type": "markdown",
      "metadata": {
        "id": "4VFe96etBoxC"
      },
      "source": [
        "Você pode testar a função com os códigos abaixo."
      ]
    },
    {
      "cell_type": "code",
      "execution_count": 22,
      "metadata": {
        "colab": {
          "base_uri": "https://localhost:8080/"
        },
        "id": "fHuCm8ezBoxD",
        "outputId": "e0d074aa-3462-477b-8dac-3168643acc07"
      },
      "outputs": [
        {
          "output_type": "stream",
          "name": "stdout",
          "text": [
            "['med', 'vhigh', 'vhigh', 'high', 'high', 'high', 'high', 'med', 'med', 'med', 'med', 'low', 'low', 'low']\n"
          ]
        }
      ],
      "source": [
        "# extrair a coluna valor_manutencao\n",
        "valor_manutencao = extrai_coluna_csv(nome_arquivo='./carros.csv', indice_coluna=2, tipo_dado='str')\n",
        "print(valor_manutencao) # deve retornar ['med', 'vhigh', 'vhigh', ...]"
      ]
    },
    {
      "cell_type": "code",
      "execution_count": 23,
      "metadata": {
        "colab": {
          "base_uri": "https://localhost:8080/"
        },
        "id": "3JOGBS-uBoxD",
        "outputId": "bf7a8aa2-e940-4d7b-99dc-0130be6351af"
      },
      "outputs": [
        {
          "output_type": "stream",
          "name": "stdout",
          "text": [
            "['small\\n', 'small\\n', 'small\\n', 'small\\n', 'small\\n', 'big\\n', 'big\\n', 'small\\n', 'small\\n', 'small\\n', 'big\\n', 'small\\n', 'small\\n', 'med\\n']\n"
          ]
        }
      ],
      "source": [
        "# extrair a coluna porta_malas\n",
        "porta_malas = extrai_coluna_csv(nome_arquivo='./carros.csv', indice_coluna=5, tipo_dado=str)\n",
        "print(porta_malas) # deve retornar ['small', 'small', 'small', ...]"
      ]
    },
    {
      "cell_type": "markdown",
      "metadata": {
        "id": "uJzbZqp0BoxD"
      },
      "source": [
        "# Exercício bônus"
      ]
    },
    {
      "cell_type": "markdown",
      "metadata": {
        "id": "U4S19ZvHsPcE"
      },
      "source": [
        "## 1\\. Funções para arquivo csv"
      ]
    },
    {
      "cell_type": "markdown",
      "metadata": {
        "id": "Mcf3mkOrtHzK"
      },
      "source": [
        "Complete a função abaixo para extrair uma coluna do arquivo csv em uma lista. Os elementos devem ter o tipo de dado correto."
      ]
    },
    {
      "cell_type": "code",
      "execution_count": 26,
      "metadata": {
        "id": "W-1PAg7Ctt7i"
      },
      "outputs": [],
      "source": [
        "def extrai_coluna_csv(nome_arquivo: str, indice_coluna: int, tipo_dado: str):\n",
        "    coluna = []\n",
        "    with open(file=nome_arquivo, mode='r', encoding='utf8') as fp:\n",
        "        linha= fp.readline()\n",
        "        linha= fp.readline()\n",
        "        while linha:\n",
        "            linha_separada = linha.split(sep=',')\n",
        "            indice = linha_separada[indice_coluna]\n",
        "            if tipo_dado == 'str':\n",
        "              str(indice)\n",
        "            elif tipo_dado == 'int':\n",
        "              int(indice)\n",
        "            elif tipo_dado == 'float':\n",
        "              float(indice)\n",
        "            else:\n",
        "              bool(indice)\n",
        "            coluna.append(indice)\n",
        "            linha = fp.readline()\n",
        "\n",
        "    return coluna"
      ]
    },
    {
      "cell_type": "markdown",
      "metadata": {
        "id": "qCbQF6jru_01"
      },
      "source": [
        "Você pode testar a função com os códigos abaixo."
      ]
    },
    {
      "cell_type": "code",
      "execution_count": 27,
      "metadata": {
        "id": "Rl-EYdySu90s",
        "colab": {
          "base_uri": "https://localhost:8080/"
        },
        "outputId": "736f91d5-1bcf-4865-e0d1-71bb864ea3d2"
      },
      "outputs": [
        {
          "output_type": "stream",
          "name": "stdout",
          "text": [
            "['vhigh', 'med', 'low', 'low', 'low', 'low', 'low', 'low', 'low', 'low', 'low', 'low', 'low', 'low']\n"
          ]
        }
      ],
      "source": [
        "# extrair a coluna valor_venda\n",
        "valor_venda = extrai_coluna_csv(nome_arquivo='./carros.csv', indice_coluna=1, tipo_dado='str')\n",
        "print(valor_venda) # deve retornar ['vhigh', 'med', 'low', ...]"
      ]
    },
    {
      "cell_type": "code",
      "execution_count": 28,
      "metadata": {
        "id": "hvD-zzwDwboD",
        "colab": {
          "base_uri": "https://localhost:8080/"
        },
        "outputId": "656dee7c-a55c-49f6-e835-64057ad03364"
      },
      "outputs": [
        {
          "output_type": "stream",
          "name": "stdout",
          "text": [
            "['2', '2', '2', '2', '2', '4', '4', '2', '2', '2', '4', '2', '4', '4']\n"
          ]
        }
      ],
      "source": [
        "# extrair a coluna pessoas\n",
        "pessoas = extrai_coluna_csv(nome_arquivo='./carros.csv', indice_coluna=4, tipo_dado='int')\n",
        "print(pessoas) # deve retornar [2, 2, 2, ...]"
      ]
    },
    {
      "cell_type": "markdown",
      "metadata": {
        "id": "QTS5-sSbs4ie"
      },
      "source": [
        "---"
      ]
    },
    {
      "cell_type": "markdown",
      "metadata": {
        "id": "sebqs6uztCH4"
      },
      "source": [
        "## 2\\. Funções para arquivo txt"
      ]
    },
    {
      "cell_type": "markdown",
      "metadata": {
        "id": "IFVBGkNhzB3P"
      },
      "source": [
        "Complete a função abaixo para extrair uma as palavras de uma linha do arquivo txt em uma lista."
      ]
    },
    {
      "cell_type": "code",
      "execution_count": 60,
      "metadata": {
        "id": "ewrNqMtczWZJ"
      },
      "outputs": [],
      "source": [
        "def extrai_linha_txt(nome_arquivo: str, numero_linha: int):\n",
        "  palavras_linha = []\n",
        "  with open(file=nome_arquivo, mode='r', encoding='utf8') as fp:\n",
        "    linha= fp.readlines()[numero_linha - 1]\n",
        "    linha_sep = linha.split(sep=' ')\n",
        "    palavras_linha.append(linha_sep)\n",
        "  return palavras_linha\n",
        "  # leia o arquivo com o comando 'with' utilizando o parametro 'nome_arquivo'\n",
        "  # extraia a linha do arquivo utilizando o parametro 'numero_linha'\n",
        "  # quebre a linha em palavras com o comando split, note que o separador é um espaço ' '\n"
      ]
    },
    {
      "cell_type": "markdown",
      "metadata": {
        "id": "Qz2UwipIz0t2"
      },
      "source": [
        "Você pode testar a função com os códigos abaixo."
      ]
    },
    {
      "cell_type": "code",
      "execution_count": 61,
      "metadata": {
        "id": "_Wxp43qqz1V2",
        "colab": {
          "base_uri": "https://localhost:8080/"
        },
        "outputId": "9741d4df-9e09-40b3-bf92-620bcbd0f3d5"
      },
      "outputs": [
        {
          "output_type": "stream",
          "name": "stdout",
          "text": [
            "[['Mas', 'eis', 'que', 'chega', 'a', 'roda', 'viva\\n']]\n"
          ]
        }
      ],
      "source": [
        "linha10 = extrai_linha_txt(nome_arquivo='./musica.txt', numero_linha=10)\n",
        "print(linha10) # deve retornar ['Mas', 'eis', 'que', 'chega', 'a', 'roda', 'viva']"
      ]
    },
    {
      "cell_type": "markdown",
      "metadata": {
        "id": "Fo9qTjietCH6"
      },
      "source": [
        "---"
      ]
    }
  ],
  "metadata": {
    "colab": {
      "provenance": []
    },
    "kernelspec": {
      "display_name": "Python 3 (ipykernel)",
      "language": "python",
      "name": "python3"
    },
    "language_info": {
      "codemirror_mode": {
        "name": "ipython",
        "version": 3
      },
      "file_extension": ".py",
      "mimetype": "text/x-python",
      "name": "python",
      "nbconvert_exporter": "python",
      "pygments_lexer": "ipython3",
      "version": "3.9.7"
    }
  },
  "nbformat": 4,
  "nbformat_minor": 0
}